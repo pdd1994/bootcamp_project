{
 "cells": [
  {
   "cell_type": "markdown",
   "id": "089dec97",
   "metadata": {},
   "source": [
    "# Erdös Institute\n",
    "## Data Science Boot Camp Project: Police Interaction\n",
    "--- \n",
    "[ICPSR 38872 dataset](https://www.icpsr.umich.edu/web/NACJD/studies/38872), focusing on the following features:\n",
    "- **AGE** (Categorical)\n",
    "- **HISP** (Hispanic status)\n",
    "- **SEX**\n",
    "- **INCOME**\n",
    "- **V347** (Target: Indicator of proper police behavior)"
   ]
  },
  {
   "cell_type": "code",
   "execution_count": 1,
   "id": "ad8c9ead",
   "metadata": {},
   "outputs": [
    {
     "name": "stdout",
     "output_type": "stream",
     "text": [
      "<class 'pandas.core.frame.DataFrame'>\n",
      "RangeIndex: 130122 entries, 0 to 130121\n",
      "Columns: 277 entries, SCRMCTRL to V353\n",
      "dtypes: object(277)\n",
      "memory usage: 275.0+ MB\n"
     ]
    }
   ],
   "source": [
    "# Importing libraries needed\n",
    "import pandas as pd\n",
    "import numpy as np\n",
    "from xgboost import XGBClassifier\n",
    "from sklearn.model_selection import train_test_split, cross_val_score\n",
    "from sklearn.metrics import (confusion_matrix, classification_report, \n",
    "                           ConfusionMatrixDisplay, roc_curve, auc, confusion_matrix, roc_auc_score, PrecisionRecallDisplay)\n",
    "\n",
    "# install imbalanced learn in your conda environment before preceding\n",
    "from imblearn.over_sampling import SMOTE\n",
    "from xgboost import XGBClassifier\n",
    "from sklearn.calibration import CalibratedClassifierCV, calibration_curve, CalibrationDisplay\n",
    "from collections import Counter\n",
    "import matplotlib.pyplot as plt\n",
    "from sklearn.linear_model import LogisticRegression\n",
    "from sklearn.ensemble import AdaBoostClassifier\n",
    "\n",
    "\n",
    "df = pd.read_csv('/Users/patrickma1994/Documents/data.tsv', sep='\\t',dtype='str')\n",
    "df.info()"
   ]
  },
  {
   "cell_type": "code",
   "execution_count": 2,
   "id": "5ca86b5c",
   "metadata": {},
   "outputs": [
    {
     "name": "stdout",
     "output_type": "stream",
     "text": [
      "V347\n",
      "9     112008\n",
      "1      16628\n",
      "2        903\n",
      "3        529\n",
      "8         40\n",
      "98        14\n",
      "Name: count, dtype: int64\n"
     ]
    }
   ],
   "source": [
    "# Checking if the value satisfy the codebook\n",
    "print(df['V347'].value_counts())"
   ]
  },
  {
   "cell_type": "markdown",
   "id": "0c89b9da",
   "metadata": {},
   "source": [
    "By checking the codebook and extracting the features wanted, we define a `df_m` matrix that only contains the selected data for simpler calculation."
   ]
  },
  {
   "cell_type": "code",
   "execution_count": 3,
   "id": "830053b3",
   "metadata": {},
   "outputs": [
    {
     "data": {
      "application/vnd.microsoft.datawrangler.viewer.v0+json": {
       "columns": [
        {
         "name": "index",
         "rawType": "int64",
         "type": "integer"
        },
        {
         "name": "AGE",
         "rawType": "object",
         "type": "string"
        },
        {
         "name": "HISP",
         "rawType": "object",
         "type": "string"
        },
        {
         "name": "SEX",
         "rawType": "object",
         "type": "string"
        },
        {
         "name": "INCOME",
         "rawType": "object",
         "type": "string"
        },
        {
         "name": "proper_behave",
         "rawType": "object",
         "type": "string"
        }
       ],
       "ref": "f476ba65-846f-46f3-b698-6d592810acf1",
       "rows": [
        [
         "0",
         "3",
         "3",
         "2",
         "3",
         "9"
        ],
        [
         "1",
         "3",
         "3",
         "1",
         "3",
         "9"
        ],
        [
         "2",
         "3",
         "1",
         "2",
         "4",
         "9"
        ],
        [
         "3",
         "3",
         "1",
         "1",
         "4",
         "9"
        ],
        [
         "4",
         "4",
         "1",
         "2",
         "3",
         "9"
        ]
       ],
       "shape": {
        "columns": 5,
        "rows": 5
       }
      },
      "text/html": [
       "<div>\n",
       "<style scoped>\n",
       "    .dataframe tbody tr th:only-of-type {\n",
       "        vertical-align: middle;\n",
       "    }\n",
       "\n",
       "    .dataframe tbody tr th {\n",
       "        vertical-align: top;\n",
       "    }\n",
       "\n",
       "    .dataframe thead th {\n",
       "        text-align: right;\n",
       "    }\n",
       "</style>\n",
       "<table border=\"1\" class=\"dataframe\">\n",
       "  <thead>\n",
       "    <tr style=\"text-align: right;\">\n",
       "      <th></th>\n",
       "      <th>AGE</th>\n",
       "      <th>HISP</th>\n",
       "      <th>SEX</th>\n",
       "      <th>INCOME</th>\n",
       "      <th>proper_behave</th>\n",
       "    </tr>\n",
       "  </thead>\n",
       "  <tbody>\n",
       "    <tr>\n",
       "      <th>0</th>\n",
       "      <td>3</td>\n",
       "      <td>3</td>\n",
       "      <td>2</td>\n",
       "      <td>3</td>\n",
       "      <td>9</td>\n",
       "    </tr>\n",
       "    <tr>\n",
       "      <th>1</th>\n",
       "      <td>3</td>\n",
       "      <td>3</td>\n",
       "      <td>1</td>\n",
       "      <td>3</td>\n",
       "      <td>9</td>\n",
       "    </tr>\n",
       "    <tr>\n",
       "      <th>2</th>\n",
       "      <td>3</td>\n",
       "      <td>1</td>\n",
       "      <td>2</td>\n",
       "      <td>4</td>\n",
       "      <td>9</td>\n",
       "    </tr>\n",
       "    <tr>\n",
       "      <th>3</th>\n",
       "      <td>3</td>\n",
       "      <td>1</td>\n",
       "      <td>1</td>\n",
       "      <td>4</td>\n",
       "      <td>9</td>\n",
       "    </tr>\n",
       "    <tr>\n",
       "      <th>4</th>\n",
       "      <td>4</td>\n",
       "      <td>1</td>\n",
       "      <td>2</td>\n",
       "      <td>3</td>\n",
       "      <td>9</td>\n",
       "    </tr>\n",
       "  </tbody>\n",
       "</table>\n",
       "</div>"
      ],
      "text/plain": [
       "  AGE HISP SEX INCOME proper_behave\n",
       "0   3    3   2      3             9\n",
       "1   3    3   1      3             9\n",
       "2   3    1   2      4             9\n",
       "3   3    1   1      4             9\n",
       "4   4    1   2      3             9"
      ]
     },
     "execution_count": 3,
     "metadata": {},
     "output_type": "execute_result"
    }
   ],
   "source": [
    "df_m = df[['AGE', 'HISP', 'SEX', 'INCOME', 'V347']].rename(columns={'V347': 'proper_behave'})\n",
    "df_m.head()"
   ]
  },
  {
   "cell_type": "code",
   "execution_count": 4,
   "id": "2cb1f22b",
   "metadata": {},
   "outputs": [
    {
     "name": "stdout",
     "output_type": "stream",
     "text": [
      "Missing values in each column:\n",
      "AGE              0\n",
      "HISP             0\n",
      "SEX              0\n",
      "INCOME           0\n",
      "proper_behave    0\n",
      "dtype: int64\n"
     ]
    }
   ],
   "source": [
    "# Convert columns to categorical\n",
    "df_m['AGE'] = pd.Categorical(df_m['AGE'])\n",
    "df_m['HISP'] = pd.Categorical(df_m['HISP'])\n",
    "df_m['SEX'] = pd.Categorical(df_m['SEX'])\n",
    "df_m['INCOME'] = pd.Categorical(df_m['INCOME'])\n",
    "\n",
    "# Filter rows where proper_behave is 1 or 2\n",
    "df_m = df_m[df_m['proper_behave'].isin(['1', '2'])]\n",
    "\n",
    "# Remap proper_behave values\n",
    "df_m['proper_behave'] = df_m['proper_behave'].map({'1': 1, '2': 0})\n",
    "\n",
    "# Convert proper_behave to numeric and checking the column number\n",
    "df_m['proper_behave'] = pd.to_numeric(df_m['proper_behave'])\n",
    "df_m.shape \n",
    "#df_m.head()\n",
    "# Check missing values in all columns\n",
    "print(\"Missing values in each column:\")\n",
    "print(df_m.isnull().sum())\n",
    "# Seems to be no missing values to the current dataset"
   ]
  },
  {
   "cell_type": "markdown",
   "id": "4164e2b7",
   "metadata": {},
   "source": [
    "The following codes drops missing values, but our data doesn't have missing values for the features selected. "
   ]
  },
  {
   "cell_type": "code",
   "execution_count": 5,
   "id": "ed9c7c01",
   "metadata": {},
   "outputs": [
    {
     "name": "stdout",
     "output_type": "stream",
     "text": [
      "\n",
      "DataFrame shape after dropping missing values:\n",
      "(17531, 5)\n",
      "\n",
      "Remaining missing values:\n",
      "AGE       0\n",
      "HISP      0\n",
      "SEX       0\n",
      "INCOME    0\n",
      "dtype: int64\n"
     ]
    }
   ],
   "source": [
    "# Drop rows with missing values in AGE, HISP, SEX, and INCOME\n",
    "df_m = df_m.dropna(subset=['AGE', 'HISP', 'SEX', 'INCOME'])\n",
    "\n",
    "# Verify the shape after dropping missing values\n",
    "print(\"\\nDataFrame shape after dropping missing values:\")\n",
    "print(df_m.shape)\n",
    "\n",
    "# Verify there are no more missing values in these columns\n",
    "print(\"\\nRemaining missing values:\")\n",
    "print(df_m[['AGE', 'HISP', 'SEX', 'INCOME']].isnull().sum())"
   ]
  },
  {
   "cell_type": "markdown",
   "id": "9e3503a5",
   "metadata": {},
   "source": [
    "### Learning the data\n",
    "---\n",
    "To better learn the data, we want to check some explanatory variables to check the distribution of the data."
   ]
  },
  {
   "cell_type": "code",
   "execution_count": 6,
   "id": "bb46802f",
   "metadata": {},
   "outputs": [
    {
     "data": {
      "image/png": "[encoded data removed]",
      "text/plain": [
       "<Figure size 700x600 with 1 Axes>"
      ]
     },
     "metadata": {},
     "output_type": "display_data"
    }
   ],
   "source": [
    "# Map income codes to labels\n",
    "income_map = {'3': \"below 75k\", '4': \"above 75k\"}\n",
    "df_m['INCOME_LABEL'] = df_m['INCOME'].map(income_map)\n",
    "\n",
    "# Calculate mean probability of \"Yes\" (proper_behave=1) for each income label\n",
    "income_probs = df_m.groupby('INCOME_LABEL', observed=False)['proper_behave'].mean()\n",
    "\n",
    "# Plot the mean probability for each income label\n",
    "plt.figure(figsize=(7, 6))\n",
    "income_probs.plot(kind='bar', color='skyblue', edgecolor='skyblue')\n",
    "plt.ylabel('Probability of \"Yes\" Response to Proper Behavior in the questionnaire')\n",
    "plt.xlabel('Income Bracket')\n",
    "plt.title('Probability of \"Yes\" Response by Income Bracket')\n",
    "plt.ylim(0.8, 1.0)\n",
    "plt.xticks(rotation=45)\n",
    "plt.tight_layout()\n",
    "plt.savefig(\"outputs/income_bracket_probability.png\", dpi=300)\n",
    "plt.show()"
   ]
  },
  {
   "cell_type": "code",
   "execution_count": 31,
   "id": "0fd30cf8",
   "metadata": {},
   "outputs": [
    {
     "data": {
      "image/png": "[encoded data removed]",
      "text/plain": [
       "<Figure size 640x480 with 2 Axes>"
      ]
     },
     "metadata": {},
     "output_type": "display_data"
    }
   ],
   "source": [
    "# Scatter plot of age vs income, colored by response to proper_behave\n",
    "age_map = {'1': '16-17', '2': '18-24', '3': '25-44', '4': '45-64', '5': '65+'}\n",
    "age_labels = df_m['AGE'].map(age_map)\n",
    "age_codes = df_m['AGE'].astype(int)\n",
    "income_codes = df_m['INCOME'].astype(int)\n",
    "\n",
    "scatter = plt.scatter(\n",
    "    age_codes,\n",
    "    income_codes,\n",
    "    c=df_m['proper_behave'],\n",
    "    cmap='coolwarm',\n",
    "    alpha=0.5,\n",
    "    label=None\n",
    ")\n",
    "plt.xlabel('Age')\n",
    "plt.ylabel('Income')\n",
    "plt.title('Scatter Plot: Age vs Income (Grouped by Proper Police Behavior Response)')\n",
    "plt.xticks(ticks=np.arange(1, 6), labels=list(age_map.values()), rotation=45)\n",
    "plt.yticks(ticks=np.arange(3, 5), labels=list(income_map.values()))\n",
    "\n",
    "cbar = plt.colorbar(scatter, ticks=[0, 1])\n",
    "cbar.ax.set_yticklabels(['No', 'Yes'])\n",
    "cbar.set_label('Proper Police Behavior')\n",
    "plt.grid(True)\n",
    "plt.tight_layout()\n",
    "plt.show()"
   ]
  },
  {
   "cell_type": "code",
   "execution_count": 32,
   "id": "5a00c8cc",
   "metadata": {},
   "outputs": [
    {
     "data": {
      "image/png": "[encoded data removed]",
      "text/plain": [
       "<Figure size 700x600 with 2 Axes>"
      ]
     },
     "metadata": {},
     "output_type": "display_data"
    }
   ],
   "source": [
    "# Plot HISP vs AGE, grouped by proper_behave response\n",
    "hisp_map = {'1': 'Non-hisp White', '2': 'Non-hisp Black', '3': 'Hispanic', '4': 'Non-hisp Asian', '5': 'Other'}\n",
    "hisp_labels = df_m['HISP'].map(hisp_map)   \n",
    "hisp_codes = df_m['HISP'].astype(int)\n",
    "\n",
    "plt.figure(figsize=(7, 6))\n",
    "scatter = plt.scatter(\n",
    "    age_codes,\n",
    "    hisp_codes,\n",
    "    c=df_m['proper_behave'],\n",
    "    cmap='coolwarm',\n",
    "    alpha=0.5,\n",
    "    label=None\n",
    ")\n",
    "plt.xlabel('Age')\n",
    "plt.ylabel('Hispanic Status')\n",
    "plt.title('Scatter Plot: Age vs Hispanic Status (Grouped by Proper Police Behavior Response)')\n",
    "plt.xticks(ticks=np.arange(1, 6), labels=list(age_map.values()), rotation=45)\n",
    "plt.yticks(ticks=np.arange(1, 6), labels=list(hisp_map.values()))\n",
    "\n",
    "cbar = plt.colorbar(scatter, ticks=[0, 1])\n",
    "cbar.ax.set_yticklabels(['No', 'Yes'])\n",
    "cbar.set_label('Proper Police Behavior')\n",
    "plt.grid(True)\n",
    "plt.tight_layout()\n",
    "plt.show()\n"
   ]
  },
  {
   "cell_type": "code",
   "execution_count": 33,
   "id": "cdce8ff4",
   "metadata": {},
   "outputs": [
    {
     "data": {
      "image/png": "[encoded data removed]",
      "text/plain": [
       "<Figure size 700x600 with 2 Axes>"
      ]
     },
     "metadata": {},
     "output_type": "display_data"
    }
   ],
   "source": [
    "# Map sex codes to labels\n",
    "sex_map = {'1': 'Male', '2': 'Female'}\n",
    "sex_labels = df_m['SEX'].map(sex_map)\n",
    "sex_codes = df_m['SEX'].astype(int)\n",
    "\n",
    "plt.figure(figsize=(7, 6))\n",
    "scatter = plt.scatter(\n",
    "    age_codes,\n",
    "    sex_codes,\n",
    "    c=df_m['proper_behave'],\n",
    "    cmap='coolwarm',\n",
    "    alpha=0.5\n",
    ")\n",
    "plt.xlabel('Age')\n",
    "plt.ylabel('Gender')\n",
    "plt.title('Scatter Plot: Age vs Gender (Grouped by Proper Police Behavior Response)')\n",
    "plt.xticks(ticks=np.arange(1, 6), labels=list(age_map.values()), rotation=45)\n",
    "plt.yticks(ticks=[1, 2], labels=['Male', 'Female'])\n",
    "\n",
    "cbar = plt.colorbar(scatter, ticks=[0, 1])\n",
    "cbar.ax.set_yticklabels(['No', 'Yes'])\n",
    "cbar.set_label('Proper Police Behavior')\n",
    "plt.grid(True)\n",
    "plt.tight_layout()\n",
    "plt.show()"
   ]
  },
  {
   "cell_type": "code",
   "execution_count": 37,
   "id": "2e05d02f",
   "metadata": {},
   "outputs": [
    {
     "data": {
      "image/png": "[encoded data removed]",
      "text/plain": [
       "<Figure size 600x400 with 1 Axes>"
      ]
     },
     "metadata": {},
     "output_type": "display_data"
    }
   ],
   "source": [
    "# Filter for: SEX = Female ('2'), AGE = 16-17 ('1') or 18-24 ('2'), HISP = 1 or 3, proper_behave = 0\n",
    "filtered = df_m[\n",
    "    (df_m['AGE'].isin(['1', '2'])) &\n",
    "    (df_m['HISP'].isin(['1', '3'])) \n",
    "]\n",
    "\n",
    "# Map codes to labels for plotting\n",
    "no_age_map = {'1': '16-17', '2': '18-24'}\n",
    "no_hisp_map = {'1': 'Non-hisp White', '3': 'Hispanic'}\n",
    "\n",
    "plt.figure(figsize=(6, 4))\n",
    "plt.scatter(\n",
    "    filtered['AGE'].map(no_age_map),\n",
    "    filtered['HISP'].map(no_hisp_map),\n",
    "    alpha=0.7,\n",
    "    color='crimson'\n",
    ")\n",
    "plt.xlabel('Age Group')\n",
    "plt.ylabel('Ethnicity')\n",
    "plt.title('All respondents, Age 16-24, Hispanic/Non-hisp White Respondents')\n",
    "plt.grid(True, linestyle=':')\n",
    "plt.tight_layout()\n",
    "plt.show()"
   ]
  },
  {
   "cell_type": "markdown",
   "id": "de407b37",
   "metadata": {},
   "source": [
    "### Creating filtered data with only AGE 16-24"
   ]
  },
  {
   "cell_type": "code",
   "execution_count": 50,
   "id": "156986f0",
   "metadata": {},
   "outputs": [
    {
     "data": {
      "application/vnd.microsoft.datawrangler.viewer.v0+json": {
       "columns": [
        {
         "name": "index",
         "rawType": "int64",
         "type": "integer"
        },
        {
         "name": "AGE",
         "rawType": "category",
         "type": "unknown"
        },
        {
         "name": "HISP",
         "rawType": "category",
         "type": "unknown"
        },
        {
         "name": "SEX",
         "rawType": "category",
         "type": "unknown"
        },
        {
         "name": "INCOME",
         "rawType": "category",
         "type": "unknown"
        },
        {
         "name": "proper_behave",
         "rawType": "int64",
         "type": "integer"
        },
        {
         "name": "INCOME_LABEL",
         "rawType": "category",
         "type": "unknown"
        }
       ],
       "ref": "d5378442-2778-4c06-828d-e558402211a1",
       "rows": [
        [
         "22",
         "1",
         "1",
         "2",
         "4",
         "1",
         "above 75k"
        ],
        [
         "71",
         "2",
         "1",
         "2",
         "4",
         "0",
         "above 75k"
        ],
        [
         "96",
         "2",
         "1",
         "2",
         "4",
         "1",
         "above 75k"
        ],
        [
         "181",
         "2",
         "1",
         "1",
         "3",
         "1",
         "below 75k"
        ],
        [
         "291",
         "2",
         "1",
         "1",
         "4",
         "1",
         "above 75k"
        ]
       ],
       "shape": {
        "columns": 6,
        "rows": 5
       }
      },
      "text/html": [
       "<div>\n",
       "<style scoped>\n",
       "    .dataframe tbody tr th:only-of-type {\n",
       "        vertical-align: middle;\n",
       "    }\n",
       "\n",
       "    .dataframe tbody tr th {\n",
       "        vertical-align: top;\n",
       "    }\n",
       "\n",
       "    .dataframe thead th {\n",
       "        text-align: right;\n",
       "    }\n",
       "</style>\n",
       "<table border=\"1\" class=\"dataframe\">\n",
       "  <thead>\n",
       "    <tr style=\"text-align: right;\">\n",
       "      <th></th>\n",
       "      <th>AGE</th>\n",
       "      <th>HISP</th>\n",
       "      <th>SEX</th>\n",
       "      <th>INCOME</th>\n",
       "      <th>proper_behave</th>\n",
       "      <th>INCOME_LABEL</th>\n",
       "    </tr>\n",
       "  </thead>\n",
       "  <tbody>\n",
       "    <tr>\n",
       "      <th>22</th>\n",
       "      <td>1</td>\n",
       "      <td>1</td>\n",
       "      <td>2</td>\n",
       "      <td>4</td>\n",
       "      <td>1</td>\n",
       "      <td>above 75k</td>\n",
       "    </tr>\n",
       "    <tr>\n",
       "      <th>71</th>\n",
       "      <td>2</td>\n",
       "      <td>1</td>\n",
       "      <td>2</td>\n",
       "      <td>4</td>\n",
       "      <td>0</td>\n",
       "      <td>above 75k</td>\n",
       "    </tr>\n",
       "    <tr>\n",
       "      <th>96</th>\n",
       "      <td>2</td>\n",
       "      <td>1</td>\n",
       "      <td>2</td>\n",
       "      <td>4</td>\n",
       "      <td>1</td>\n",
       "      <td>above 75k</td>\n",
       "    </tr>\n",
       "    <tr>\n",
       "      <th>181</th>\n",
       "      <td>2</td>\n",
       "      <td>1</td>\n",
       "      <td>1</td>\n",
       "      <td>3</td>\n",
       "      <td>1</td>\n",
       "      <td>below 75k</td>\n",
       "    </tr>\n",
       "    <tr>\n",
       "      <th>291</th>\n",
       "      <td>2</td>\n",
       "      <td>1</td>\n",
       "      <td>1</td>\n",
       "      <td>4</td>\n",
       "      <td>1</td>\n",
       "      <td>above 75k</td>\n",
       "    </tr>\n",
       "  </tbody>\n",
       "</table>\n",
       "</div>"
      ],
      "text/plain": [
       "    AGE HISP SEX INCOME  proper_behave INCOME_LABEL\n",
       "22    1    1   2      4              1    above 75k\n",
       "71    2    1   2      4              0    above 75k\n",
       "96    2    1   2      4              1    above 75k\n",
       "181   2    1   1      3              1    below 75k\n",
       "291   2    1   1      4              1    above 75k"
      ]
     },
     "execution_count": 50,
     "metadata": {},
     "output_type": "execute_result"
    }
   ],
   "source": [
    "df_filtered = df_m[\n",
    "    (df_m['AGE'].isin(['1', '2']))& (df_m['HISP'].isin(['1', '3']))]\n",
    "df_filtered.head()"
   ]
  },
  {
   "cell_type": "code",
   "execution_count": 52,
   "id": "d972db99",
   "metadata": {},
   "outputs": [],
   "source": [
    "X = pd.get_dummies(df_filtered[['AGE', 'HISP', 'SEX', 'INCOME']], drop_first=True)\n",
    "y = df_filtered['proper_behave']\n",
    "\n",
    "X_train, X_test, y_train, y_test = train_test_split(X, y, test_size=0.2, random_state=42)"
   ]
  },
  {
   "cell_type": "code",
   "execution_count": 53,
   "id": "b663b337",
   "metadata": {},
   "outputs": [
    {
     "name": "stdout",
     "output_type": "stream",
     "text": [
      "Number of proper_behave == 1 in X_train/y_train: 1167\n"
     ]
    }
   ],
   "source": [
    "# Count how many proper_behave == 1 in y_train (corresponding to X_train)\n",
    "count_properbehave_1 = (y_train == 1).sum()\n",
    "print(f\"Number of proper_behave == 1 in X_train/y_train: {count_properbehave_1}\")\n",
    "\n",
    "# If you meant to count in X_train itself, X_train only contains features, not the target.\n",
    "# So, the count is only meaningful in y_train."
   ]
  },
  {
   "cell_type": "code",
   "execution_count": 54,
   "id": "8b62db3b",
   "metadata": {},
   "outputs": [
    {
     "name": "stdout",
     "output_type": "stream",
     "text": [
      "Model accuracy: 0.9472402597402597\n"
     ]
    },
    {
     "data": {
      "image/png": "[encoded data removed]",
      "text/plain": [
       "<Figure size 640x480 with 2 Axes>"
      ]
     },
     "metadata": {},
     "output_type": "display_data"
    },
    {
     "name": "stdout",
     "output_type": "stream",
     "text": [
      "\n",
      "Classification Report:\n",
      "              precision    recall  f1-score   support\n",
      "\n",
      "           0       0.00      0.00      0.00        65\n",
      "           1       0.95      1.00      0.97      1167\n",
      "\n",
      "    accuracy                           0.95      1232\n",
      "   macro avg       0.47      0.50      0.49      1232\n",
      "weighted avg       0.90      0.95      0.92      1232\n",
      "\n"
     ]
    },
    {
     "name": "stderr",
     "output_type": "stream",
     "text": [
      "/opt/anaconda3/envs/erdos_summer_2025/lib/python3.12/site-packages/sklearn/metrics/_classification.py:1565: UndefinedMetricWarning: Precision is ill-defined and being set to 0.0 in labels with no predicted samples. Use `zero_division` parameter to control this behavior.\n",
      "  _warn_prf(average, modifier, f\"{metric.capitalize()} is\", len(result))\n",
      "/opt/anaconda3/envs/erdos_summer_2025/lib/python3.12/site-packages/sklearn/metrics/_classification.py:1565: UndefinedMetricWarning: Precision is ill-defined and being set to 0.0 in labels with no predicted samples. Use `zero_division` parameter to control this behavior.\n",
      "  _warn_prf(average, modifier, f\"{metric.capitalize()} is\", len(result))\n",
      "/opt/anaconda3/envs/erdos_summer_2025/lib/python3.12/site-packages/sklearn/metrics/_classification.py:1565: UndefinedMetricWarning: Precision is ill-defined and being set to 0.0 in labels with no predicted samples. Use `zero_division` parameter to control this behavior.\n",
      "  _warn_prf(average, modifier, f\"{metric.capitalize()} is\", len(result))\n"
     ]
    }
   ],
   "source": [
    "model_lr = LogisticRegression(random_state=42)\n",
    "model_lr.fit(X_train, y_train,)\n",
    "\n",
    "print(\"Model accuracy:\", model_lr.score(X_train, y_train))\n",
    "\n",
    "from sklearn.metrics import confusion_matrix, ConfusionMatrixDisplay\n",
    "import matplotlib.pyplot as plt\n",
    "# Get predictions on training data set\n",
    "y_train_pred = model_lr.predict(X_train)\n",
    "lr_proba_train = model_lr.predict_proba(X_train)[:, 1]\n",
    "\n",
    "# Create and plot confusion matrix\n",
    "cm = confusion_matrix(y_train, y_train_pred)\n",
    "disp = ConfusionMatrixDisplay(confusion_matrix=cm, display_labels=['No', 'Yes'])\n",
    "disp.plot(cmap='Reds')\n",
    "plt.title('Confusion Matrix')\n",
    "plt.show()\n",
    "\n",
    "# Print classification metrics\n",
    "from sklearn.metrics import classification_report\n",
    "print(\"\\nClassification Report:\")\n",
    "print(classification_report(y_train, y_train_pred))"
   ]
  },
  {
   "cell_type": "code",
   "execution_count": null,
   "id": "48be3ece",
   "metadata": {},
   "outputs": [
    {
     "data": {
      "application/vnd.jupyter.widget-view+json": {
       "model_id": "34d41932db93405386dd5a4744798e77",
       "version_major": 2,
       "version_minor": 0
      },
      "text/plain": [
       "interactive(children=(FloatSlider(value=0.5, description='Threshold:', max=1.0, step=0.01), Output()), _dom_cl…"
      ]
     },
     "metadata": {},
     "output_type": "display_data"
    },
    {
     "data": {
      "text/plain": [
       "<function __main__.plot_confusion_and_hist(threshold)>"
      ]
     },
     "execution_count": 55,
     "metadata": {},
     "output_type": "execute_result"
    }
   ],
   "source": [
    "import numpy as np\n",
    "import matplotlib.pyplot as plt\n",
    "from sklearn.metrics import confusion_matrix, ConfusionMatrixDisplay, accuracy_score, f1_score\n",
    "import ipywidgets as widgets\n",
    "from IPython.display import display\n",
    "\n",
    "# Use lr_proba_train (from your logistic regression training predictions)\n",
    "probs = lr_proba_train  # Probabilities for the positive class\n",
    "true_labels = y_train   # True labels for the training set\n",
    "\n",
    "def plot_confusion_and_hist(threshold):\n",
    "    y_pred = (probs >= threshold).astype(int)\n",
    "    cm = confusion_matrix(true_labels, y_pred)\n",
    "    acc = accuracy_score(true_labels, y_pred)\n",
    "    f1 = f1_score(true_labels, y_pred)\n",
    "    \n",
    "    fig, axs = plt.subplots(1, 2, figsize=(10, 4), gridspec_kw={'width_ratios': [1, 1.2]})\n",
    "    \n",
    "    # Confusion matrix\n",
    "    disp = ConfusionMatrixDisplay(confusion_matrix=cm, display_labels=['No', 'Yes'])\n",
    "    disp.plot(cmap='Reds', values_format='d', ax=axs[0], colorbar=False)\n",
    "    axs[0].set_title(f'Logistic Regression\\n(Threshold={threshold:.2f})')\n",
    "    \n",
    "    # Histogram of predicted probabilities\n",
    "    axs[1].hist(probs, bins=30, color=\"#1A5A8F\", edgecolor='white', alpha=0.85)\n",
    "    axs[1].axvline(threshold, color='crimson', linestyle='--', linewidth=2, label=f'Threshold = {threshold:.2f}')\n",
    "    axs[1].set_title('Distribution of Predicted Probabilities')\n",
    "    axs[1].set_xlabel('Predicted Probability')\n",
    "    axs[1].set_ylabel('Count')\n",
    "    axs[1].legend()\n",
    "    axs[1].grid(axis='y', linestyle=':', alpha=0.7)\n",
    "    \n",
    "    plt.tight_layout()\n",
    "    plt.show()\n",
    "    \n",
    "    print(f'Accuracy: {acc:.3f}')\n",
    "    print(f'F1 Score: {f1:.3f}')\n",
    "\n",
    "\n",
    "slider = widgets.FloatSlider(value=0.5, min=0.0, max=1.0, step=0.01, description='Threshold:')\n",
    "widgets.interact(plot_confusion_and_hist, threshold=slider)"
   ]
  },
  {
   "cell_type": "markdown",
   "id": "a795f1ed",
   "metadata": {},
   "source": [
    "### Creating Training and Testing Data Sets for all data\n",
    "---\n",
    "- 80% training / 20% test using `train_test_split(random_state=42)`\n",
    "- All models trained and tested on the **same split**\n"
   ]
  },
  {
   "cell_type": "code",
   "execution_count": 7,
   "id": "f5d5e692",
   "metadata": {},
   "outputs": [],
   "source": [
    "# Create dummy variables for categorical predictors\n",
    "X = pd.get_dummies(df_m[['AGE', 'HISP', 'SEX', 'INCOME']], drop_first=True)\n",
    "y = df_m['proper_behave']\n",
    "\n",
    "X_train, X_test, y_train, y_test = train_test_split(X, y, test_size=0.2, random_state=42)"
   ]
  },
  {
   "cell_type": "markdown",
   "id": "c9be72fa",
   "metadata": {},
   "source": [
    "### Logistic regression result\n",
    "   - Baseline model  \n",
    "   - Naturally well-calibrated under linear assumptions\n",
    "---\n",
    "In the following model setup, the y(dependent variable is \"proper_behave\"), the dependent variable is the following:\n",
    "1. HISP: surveys if the the interviewee's ethnicity\n",
    "2. INCOME: surveys the interviewee's income level\n",
    "3. SEX: surveys the interviewee's gender\n",
    "4. AGE: surveys the interviewee's age\n",
    "\n",
    "A confusion matrix is provided below."
   ]
  },
  {
   "cell_type": "code",
   "execution_count": 8,
   "id": "2217b70f",
   "metadata": {},
   "outputs": [
    {
     "name": "stdout",
     "output_type": "stream",
     "text": [
      "Model accuracy: 0.9491585852823731\n"
     ]
    },
    {
     "data": {
      "image/png": "[encoded data removed]",
      "text/plain": [
       "<Figure size 640x480 with 2 Axes>"
      ]
     },
     "metadata": {},
     "output_type": "display_data"
    },
    {
     "name": "stdout",
     "output_type": "stream",
     "text": [
      "\n",
      "Classification Report:\n",
      "              precision    recall  f1-score   support\n",
      "\n",
      "           0       0.00      0.00      0.00       713\n",
      "           1       0.95      1.00      0.97     13311\n",
      "\n",
      "    accuracy                           0.95     14024\n",
      "   macro avg       0.47      0.50      0.49     14024\n",
      "weighted avg       0.90      0.95      0.92     14024\n",
      "\n"
     ]
    },
    {
     "name": "stderr",
     "output_type": "stream",
     "text": [
      "/opt/anaconda3/envs/erdos_summer_2025/lib/python3.12/site-packages/sklearn/metrics/_classification.py:1565: UndefinedMetricWarning: Precision is ill-defined and being set to 0.0 in labels with no predicted samples. Use `zero_division` parameter to control this behavior.\n",
      "  _warn_prf(average, modifier, f\"{metric.capitalize()} is\", len(result))\n",
      "/opt/anaconda3/envs/erdos_summer_2025/lib/python3.12/site-packages/sklearn/metrics/_classification.py:1565: UndefinedMetricWarning: Precision is ill-defined and being set to 0.0 in labels with no predicted samples. Use `zero_division` parameter to control this behavior.\n",
      "  _warn_prf(average, modifier, f\"{metric.capitalize()} is\", len(result))\n",
      "/opt/anaconda3/envs/erdos_summer_2025/lib/python3.12/site-packages/sklearn/metrics/_classification.py:1565: UndefinedMetricWarning: Precision is ill-defined and being set to 0.0 in labels with no predicted samples. Use `zero_division` parameter to control this behavior.\n",
      "  _warn_prf(average, modifier, f\"{metric.capitalize()} is\", len(result))\n"
     ]
    }
   ],
   "source": [
    "# Create and fit the logistic regression model\n",
    "model_lr = LogisticRegression(random_state=42)\n",
    "model_lr.fit(X_train, y_train,)\n",
    "\n",
    "print(\"Model accuracy:\", model_lr.score(X_train, y_train))\n",
    "\n",
    "from sklearn.metrics import confusion_matrix, ConfusionMatrixDisplay\n",
    "import matplotlib.pyplot as plt\n",
    "# Get predictions on training data set\n",
    "y_train_pred = model_lr.predict(X_train)\n",
    "lr_proba_train = model_lr.predict_proba(X_train)[:, 1]\n",
    "\n",
    "# Create and plot confusion matrix\n",
    "cm = confusion_matrix(y_train, y_train_pred)\n",
    "disp = ConfusionMatrixDisplay(confusion_matrix=cm, display_labels=['No', 'Yes'])\n",
    "disp.plot(cmap='Reds')\n",
    "plt.title('Confusion Matrix')\n",
    "plt.show()\n",
    "\n",
    "# Print classification metrics\n",
    "from sklearn.metrics import classification_report\n",
    "print(\"\\nClassification Report:\")\n",
    "print(classification_report(y_train, y_train_pred))"
   ]
  },
  {
   "cell_type": "code",
   "execution_count": null,
   "id": "5a0df2ec",
   "metadata": {},
   "outputs": [
    {
     "data": {
      "application/vnd.jupyter.widget-view+json": {
       "model_id": "80cb1500057940bf83999a638ca074bb",
       "version_major": 2,
       "version_minor": 0
      },
      "text/plain": [
       "interactive(children=(FloatSlider(value=0.5, description='Threshold:', max=1.0, step=0.01), Output()), _dom_cl…"
      ]
     },
     "metadata": {},
     "output_type": "display_data"
    },
    {
     "data": {
      "text/plain": [
       "<function __main__.plot_confusion_and_hist(threshold)>"
      ]
     },
     "execution_count": 9,
     "metadata": {},
     "output_type": "execute_result"
    }
   ],
   "source": [
    "import numpy as np\n",
    "import matplotlib.pyplot as plt\n",
    "from sklearn.metrics import confusion_matrix, ConfusionMatrixDisplay, accuracy_score, f1_score\n",
    "import ipywidgets as widgets\n",
    "from IPython.display import display\n",
    "\n",
    "# Use lr_proba_train (from your logistic regression training predictions)\n",
    "probs = lr_proba_train  # Probabilities for the positive class\n",
    "true_labels = y_train   # True labels for the training set\n",
    "\n",
    "def plot_confusion_and_hist(threshold):\n",
    "    y_pred = (probs >= threshold).astype(int)\n",
    "    cm = confusion_matrix(true_labels, y_pred)\n",
    "    acc = accuracy_score(true_labels, y_pred)\n",
    "    f1 = f1_score(true_labels, y_pred)\n",
    "    \n",
    "    fig, axs = plt.subplots(1, 2, figsize=(10, 4), gridspec_kw={'width_ratios': [1, 1.2]})\n",
    "    \n",
    "    # Confusion matrix\n",
    "    disp = ConfusionMatrixDisplay(confusion_matrix=cm, display_labels=['No', 'Yes'])\n",
    "    disp.plot(cmap='Reds', values_format='d', ax=axs[0], colorbar=False)\n",
    "    axs[0].set_title(f'Logistic Regression\\n(Threshold={threshold:.2f})')\n",
    "    \n",
    "    # Histogram of predicted probabilities\n",
    "    axs[1].hist(probs, bins=30, color=\"#1A5A8F\", edgecolor='white', alpha=0.85)\n",
    "    axs[1].axvline(threshold, color='crimson', linestyle='--', linewidth=2, label=f'Threshold = {threshold:.2f}')\n",
    "    axs[1].set_title('Distribution of Predicted Probabilities')\n",
    "    axs[1].set_xlabel('Predicted Probability')\n",
    "    axs[1].set_ylabel('Count')\n",
    "    axs[1].legend()\n",
    "    axs[1].grid(axis='y', linestyle=':', alpha=0.7)\n",
    "    \n",
    "    plt.tight_layout()\n",
    "    plt.show()\n",
    "    \n",
    "    print(f'Accuracy: {acc:.3f}')\n",
    "    print(f'F1 Score: {f1:.3f}')\n",
    "\n",
    "\n",
    "slider = widgets.FloatSlider(value=0.5, min=0.0, max=1.0, step=0.01, description='Threshold:')\n",
    "widgets.interact(plot_confusion_and_hist, threshold=slider)"
   ]
  },
  {
   "cell_type": "markdown",
   "id": "3b16eb02",
   "metadata": {},
   "source": [
    "#### Reporting the logistic regression without SMOTE balancing\n",
    "---\n",
    "The coefficients of the logistic regression is as:"
   ]
  },
  {
   "cell_type": "code",
   "execution_count": 10,
   "id": "9b43b435",
   "metadata": {},
   "outputs": [
    {
     "name": "stdout",
     "output_type": "stream",
     "text": [
      "\n",
      "Model coefficients:\n",
      "    Feature  Coefficient\n",
      "0     AGE_2    -0.228835\n",
      "1     AGE_3    -0.307666\n",
      "2     AGE_4    -0.305055\n",
      "3     AGE_5     0.064544\n",
      "4    HISP_2    -0.760991\n",
      "5    HISP_3    -0.345771\n",
      "6    HISP_4     0.066357\n",
      "7    HISP_5    -0.150707\n",
      "8     SEX_2     0.025924\n",
      "9  INCOME_4     0.309839\n"
     ]
    }
   ],
   "source": [
    "# Get model coefficients\n",
    "coef_df = pd.DataFrame({\n",
    "    'Feature': X.columns,\n",
    "    'Coefficient': model_lr.coef_[0]\n",
    "})\n",
    "print(\"\\nModel coefficients:\")\n",
    "print(coef_df)"
   ]
  },
  {
   "cell_type": "markdown",
   "id": "a1f9f679",
   "metadata": {},
   "source": [
    "Logistic Regression: adding cross-validation for better result."
   ]
  },
  {
   "cell_type": "code",
   "execution_count": 13,
   "id": "7b1ceee2",
   "metadata": {},
   "outputs": [
    {
     "name": "stdout",
     "output_type": "stream",
     "text": [
      "Accuracy: 0.948491244081912\n",
      "Precision: 0.948491244081912\n",
      "Recall: 1.0\n",
      "F1: 0.9735647999063204\n"
     ]
    }
   ],
   "source": [
    "from sklearn.model_selection import StratifiedKFold, cross_val_predict\n",
    "from sklearn.metrics import accuracy_score, precision_score, recall_score, f1_score\n",
    "threshold = 0.8  # set your custom threshold here\n",
    "\n",
    "# Get cross-validated predicted probabilities\n",
    "cv = StratifiedKFold(n_splits=5, shuffle=True, random_state=42)\n",
    "lr_cv_probs = cross_val_predict(model_lr, X, y, cv=cv, method='predict_proba')[:, 1]\n",
    "\n",
    "# Apply threshold\n",
    "y_pred = (lr_cv_probs >= threshold).astype(int)\n",
    "\n",
    "# Calculate metrics\n",
    "print(\"Accuracy:\", accuracy_score(y, y_pred))\n",
    "print(\"Precision:\", precision_score(y, y_pred))\n",
    "print(\"Recall:\", recall_score(y, y_pred))\n",
    "print(\"F1:\", f1_score(y, y_pred))"
   ]
  },
  {
   "cell_type": "markdown",
   "id": "c6940160",
   "metadata": {},
   "source": [
    "### Adding visualization as the threshold changes"
   ]
  },
  {
   "cell_type": "code",
   "execution_count": null,
   "id": "6d4af102",
   "metadata": {},
   "outputs": [
    {
     "data": {
      "application/vnd.jupyter.widget-view+json": {
       "model_id": "1d095b62484442c78f87921b88ce6188",
       "version_major": 2,
       "version_minor": 0
      },
      "text/plain": [
       "interactive(children=(FloatSlider(value=0.5, description='Threshold', max=1.0, step=0.01), Output()), _dom_cla…"
      ]
     },
     "metadata": {},
     "output_type": "display_data"
    },
    {
     "data": {
      "text/plain": [
       "<function __main__.cv_metrics_vs_threshold(threshold)>"
      ]
     },
     "execution_count": 14,
     "metadata": {},
     "output_type": "execute_result"
    }
   ],
   "source": [
    "# Adding visualization as the threshold changes\n",
    "probs = model_lr.predict_proba(X)[:, 1]\n",
    "true_labels = y.values\n",
    "\n",
    "def cv_metrics_vs_threshold(threshold):\n",
    "    skf = StratifiedKFold(n_splits=5, shuffle=True, random_state=42)\n",
    "    accs, precs, recs, f1s = [], [], [], []\n",
    "    for train_idx, test_idx in skf.split(probs, true_labels):\n",
    "        y_true = true_labels[test_idx]\n",
    "        y_pred = (probs[test_idx] >= threshold).astype(int)\n",
    "        accs.append(accuracy_score(y_true, y_pred))\n",
    "        precs.append(precision_score(y_true, y_pred, zero_division=0))\n",
    "        recs.append(recall_score(y_true, y_pred, zero_division=0))\n",
    "        f1s.append(f1_score(y_true, y_pred, zero_division=0))\n",
    "    metrics = [np.mean(accs), np.mean(precs), np.mean(recs), np.mean(f1s)]\n",
    "    stds = [np.std(accs), np.std(precs), np.std(recs), np.std(f1s)]\n",
    "    colors = ['#4682B4', '#6A5ACD', '#20B2AA', '#FF8C00']\n",
    "    fig, ax = plt.subplots(figsize=(9, 5))  # Increased figure size\n",
    "    bars = ax.bar(['Accuracy', 'Precision', 'Recall', 'F1'], metrics, yerr=[2*s for s in stds],\n",
    "                  capsize=10, color=colors, edgecolor='black', alpha=0.85)\n",
    "    ax.set_ylim(0, 1)\n",
    "    ax.set_title(f\"5-Fold CV Logstic Regression at Threshold={threshold:.2f}\", fontsize=12, fontweight='bold', pad=20)\n",
    "    ax.set_ylabel(\"Mean CV Score\", fontsize=14)\n",
    "    for bar, mean in zip(bars, metrics):\n",
    "        ax.text(bar.get_x() + bar.get_width()/2, mean + 0.03, f\"{mean:.2f}\", ha='center', va='bottom', fontsize=12, fontweight='bold')\n",
    "    ax.grid(axis='y', linestyle=':', alpha=0.7)\n",
    "    ax.spines[['top', 'right']].set_visible(False)\n",
    "    plt.tight_layout(rect=[0, 0, 1, 0.97])  # Leave more space for the title\n",
    "    plt.show()\n",
    "    print(f\"Accuracy: {metrics[0]:.3f}, Precision: {metrics[1]:.3f}, Recall: {metrics[2]:.3f}, F1: {metrics[3]:.3f}\")\n",
    "\n",
    "widgets.interact(cv_metrics_vs_threshold, threshold=widgets.FloatSlider(value=0.5, min=0.0, max=1.0, step=0.01, description='Threshold'))"
   ]
  },
  {
   "cell_type": "markdown",
   "id": "28bb16f5",
   "metadata": {},
   "source": [
    "### SMOTE for imbalanced data with logistic regression\n",
    "---"
   ]
  },
  {
   "cell_type": "code",
   "execution_count": null,
   "id": "937a58d9",
   "metadata": {},
   "outputs": [
    {
     "name": "stdout",
     "output_type": "stream",
     "text": [
      "\n",
      "Classification Report - SMOTE Model:\n",
      "              precision    recall  f1-score   support\n",
      "\n",
      "           0       0.07      0.56      0.12       713\n",
      "           1       0.96      0.57      0.72     13311\n",
      "\n",
      "    accuracy                           0.57     14024\n",
      "   macro avg       0.51      0.57      0.42     14024\n",
      "weighted avg       0.92      0.57      0.69     14024\n",
      "\n"
     ]
    }
   ],
   "source": [
    "#Ensure numeric types for SMOTE\n",
    "X_train = X_train.astype(float)  # or int\n",
    "y_train = y_train.astype(int)\n",
    "# Implementing SMOTE\n",
    "smote = SMOTE(random_state=42)\n",
    "X_resampled, y_resampled = smote.fit_resample(X_train, y_train)\n",
    "\n",
    "# Train model with SMOTE-balanced data\n",
    "model_lr_smote = LogisticRegression(max_iter=1000, random_state=42)\n",
    "model_lr_smote.fit(X_resampled, y_resampled)\n",
    "\n",
    "# Evaluate SMOTE model and get predictions on training data\n",
    "# Note: In practice, you would evaluate on a separate test set, but here we use\n",
    "y_pred_smote = model_lr_smote.predict(X_train)\n",
    "lr_smote_proba = model_lr_smote.predict_proba(X_train)[:, 1]\n",
    "# Create and plot confusion matrix for SMOTE model\n",
    "print(\"\\nClassification Report - SMOTE Model:\")\n",
    "print(classification_report(y_train, y_pred_smote))\n"
   ]
  },
  {
   "cell_type": "markdown",
   "id": "c966c4b2",
   "metadata": {},
   "source": [
    "### Printing out the confusion matrix for SMOTE and ROC curve\n",
    "---"
   ]
  },
  {
   "cell_type": "code",
   "execution_count": 17,
   "id": "5a0802c1",
   "metadata": {},
   "outputs": [],
   "source": [
    "# create SMOTE LR model with changing threshold confusion matrix\n",
    "def plot_smote_confusion_and_hist(threshold):\n",
    "    y_pred = (lr_smote_proba >= threshold).astype(int)\n",
    "    cm = confusion_matrix(y_train, y_pred)\n",
    "    acc = accuracy_score(y_train, y_pred)\n",
    "    f1 = f1_score(y_train, y_pred)\n",
    "\n",
    "    fig, axs = plt.subplots(1, 2, figsize=(10, 4), gridspec_kw={'width_ratios': [1, 1.2]})\n",
    "\n",
    "    # Confusion matrix\n",
    "    disp = ConfusionMatrixDisplay(confusion_matrix=cm, display_labels=['No', 'Yes'])\n",
    "    disp.plot(cmap='Reds', values_format='d', ax=axs[0], colorbar=False)\n",
    "    axs[0].set_title(f'SMOTE Logistic Regression\\n(Threshold={threshold:.2f})')\n",
    "\n",
    "    # Histogram of predicted probabilities\n",
    "    axs[1].hist(lr_smote_proba, bins=30, color=\"#1A5A8F\", edgecolor='white', alpha=0.85)\n",
    "    axs[1].axvline(threshold, color='crimson', linestyle='--', linewidth=2, label=f'Threshold = {threshold:.2f}')\n",
    "    axs[1].set_title('Distribution of Predicted Probabilities')\n",
    "    axs[1].set_xlabel('Predicted Probability')\n",
    "    axs[1].set_ylabel('Count')\n",
    "    axs[1].legend()\n",
    "    axs[1].grid(axis='y', linestyle=':', alpha=0.7)\n",
    "\n",
    "    plt.tight_layout()\n",
    "    plt.show()\n",
    "\n",
    "    print(f'Accuracy: {acc:.3f}')\n",
    "    print(f'F1 Score: {f1:.3f}')"
   ]
  },
  {
   "cell_type": "code",
   "execution_count": null,
   "id": "c748fbe2",
   "metadata": {},
   "outputs": [],
   "source": [
    "# Plot SMOTE confusion matrix\n",
    "cm_smote = confusion_matrix(y_test, y_pred_smote)\n",
    "disp_smote = ConfusionMatrixDisplay(confusion_matrix=cm_smote, display_labels=['No', 'Yes'])\n",
    "disp_smote.plot(cmap='Reds')\n",
    "plt.title('Confusion Matrix - Logistic Regression with SMOTE')\n",
    "plt.show()\n"
   ]
  },
  {
   "cell_type": "code",
   "execution_count": null,
   "id": "9274e6d6",
   "metadata": {},
   "outputs": [],
   "source": [
    "# Classification Report\n",
    "print(\"\\nClassification Report:\")\n",
    "print(classification_report(y_test, y_pred_smote))\n",
    "\n",
    "# ROC Curve\n",
    "y_scores = model_lr_smote.predict_proba(X_test)[:, 1]\n",
    "fpr, tpr, _ = roc_curve(y_test, y_scores)\n",
    "roc_auc = auc(fpr, tpr)\n",
    "\n",
    "plt.figure()\n",
    "plt.plot(fpr, tpr, label=f'ROC curve (area = {roc_auc:.2f})')\n",
    "plt.plot([0, 1], [0, 1], linestyle='--')\n",
    "plt.xlabel('False Positive Rate')\n",
    "plt.ylabel('True Positive Rate')\n",
    "plt.title('Receiver Operating Characteristic (ROC)')\n",
    "plt.legend()\n",
    "plt.grid(True)\n",
    "plt.show()\n",
    "\n",
    "# 11. Try different thresholds\n",
    "threshold = 0.40  # Custom threshold\n",
    "y_pred_custom = (y_scores > threshold).astype(int)\n",
    "\n",
    "print(f\"\\nClassification Report with threshold = {threshold}:\")\n",
    "print(classification_report(y_test, y_pred_custom))"
   ]
  },
  {
   "cell_type": "markdown",
   "id": "bfeeb08c",
   "metadata": {},
   "source": [
    "### Fitting the XGB model\n",
    "---\n",
    "We'll now implement XGBoost, which often provides better performance for classification tasks. We'll combine it with SMOTE to handle class imbalance."
   ]
  },
  {
   "cell_type": "code",
   "execution_count": null,
   "id": "a9767b32",
   "metadata": {},
   "outputs": [],
   "source": [
    "# Apply SMOTE to balance training data\n",
    "#smote = SMOTE(random_state=42)\n",
    "#X_resampled, y_resampled = smote.fit_resample(X_train, y_train)\n",
    "# Should already have resampled X and y, if not can resample here\n",
    "print(\"Resampled label distribution:\", Counter(y_resampled))"
   ]
  },
  {
   "cell_type": "code",
   "execution_count": null,
   "id": "247556ad",
   "metadata": {},
   "outputs": [],
   "source": [
    "# Initialize and train XGBoost model\n",
    "xgb_model = XGBClassifier(\n",
    "    eval_metric='logloss',\n",
    "    scale_pos_weight=1.1,\n",
    "    random_state=42\n",
    ")\n",
    "xgb_model.fit(X_resampled, y_resampled)\n",
    "\n",
    "# Make predictions\n",
    "y_pred_xgb = xgb_model.predict(X_test)\n",
    "y_scores_xgb = xgb_model.predict_proba(X_test)[:, 1]"
   ]
  },
  {
   "cell_type": "markdown",
   "id": "635d72d1",
   "metadata": {},
   "source": [
    "### Model Evaluation - XGBoost Results\n",
    "---\n",
    "Let's evaluate the XGBoost model's performance using various metrics and visualizations."
   ]
  },
  {
   "cell_type": "code",
   "execution_count": null,
   "id": "89981b6d",
   "metadata": {},
   "outputs": [],
   "source": [
    "cm = confusion_matrix(y_test, y_pred_xgb)\n",
    "disp = ConfusionMatrixDisplay(confusion_matrix=cm, display_labels=['No', 'Yes'])\n",
    "disp.plot(cmap='Reds')\n",
    "plt.title(\"Confusion Matrix - XGBoost + SMOTE\")\n",
    "plt.show()\n",
    "\n",
    "print(\"\\nClassification Report:\")\n",
    "print(classification_report(y_test, y_pred_xgb))\n",
    "\n",
    "# ROC Curve\n",
    "fpr, tpr, _ = roc_curve(y_test, y_scores_xgb)\n",
    "roc_auc = auc(fpr, tpr)\n",
    "\n",
    "plt.figure()\n",
    "plt.plot(fpr, tpr, label=f'ROC curve (area = {roc_auc:.2f})')\n",
    "plt.plot([0, 1], [0, 1], linestyle='--')\n",
    "plt.xlabel('False Positive Rate')\n",
    "plt.ylabel('True Positive Rate')\n",
    "plt.title('ROC Curve - XGBoost with SMOTE')\n",
    "plt.legend()\n",
    "plt.grid(True)\n",
    "plt.show()"
   ]
  },
  {
   "cell_type": "markdown",
   "id": "b83f300c",
   "metadata": {},
   "source": [
    "### XGBoost with Calibrated Classification\n",
    "---"
   ]
  },
  {
   "cell_type": "code",
   "execution_count": null,
   "id": "7ffb776e",
   "metadata": {},
   "outputs": [],
   "source": [
    "calibrated_xgb = CalibratedClassifierCV(estimator=xgb_model, method='sigmoid', cv=5)\n",
    "calibrated_xgb.fit(X_train, y_train)\n",
    "\n",
    "# Predict calibrated probabilities\n",
    "calibrated_probs = calibrated_xgb.predict_proba(X_test)[:, 1]\n",
    "\n",
    "prob_true_xgb, prob_pred_xgb = calibration_curve(y_test, calibrated_probs, n_bins=10)\n",
    "\n",
    "plt.plot(prob_pred_xgb, prob_true_xgb, marker='o', label='Calibrated XGBoost')\n",
    "plt.plot([0, 1], [0, 1], linestyle='--', color='gray', label='Perfect Calibration')\n",
    "plt.xlabel('Mean Predicted Probability')\n",
    "plt.ylabel('Fraction of Positives')\n",
    "plt.title('Calibration Curve')\n",
    "plt.legend()\n",
    "plt.grid()\n",
    "plt.show()"
   ]
  },
  {
   "cell_type": "markdown",
   "id": "421c8ff0",
   "metadata": {},
   "source": [
    "### Adaboost Model\n",
    "---\n"
   ]
  },
  {
   "cell_type": "code",
   "execution_count": null,
   "id": "6430f843",
   "metadata": {},
   "outputs": [],
   "source": [
    "# Initialize and fit model\n",
    "ada_model = AdaBoostClassifier(n_estimators=100, random_state=42)\n",
    "ada_model.fit(X_train, y_train)\n",
    "\n",
    "# Get predicted probabilities for ROC, PR curves, and calibration\n",
    "ada_probs = ada_model.predict_proba(X_test)[:, 1]\n",
    "\n",
    "# ROC Curve for AdaBoost\n",
    "ada_roc_auc = roc_auc_score(y_test, ada_probs)\n",
    "print(f\"AdaBoost ROC AUC: {ada_roc_auc:.3f}\")"
   ]
  },
  {
   "cell_type": "markdown",
   "id": "f053b6b1",
   "metadata": {},
   "source": [
    "Delivering the AdaBoost calibration curve"
   ]
  },
  {
   "cell_type": "code",
   "execution_count": null,
   "id": "4113279a",
   "metadata": {},
   "outputs": [],
   "source": [
    "prob_true_ada, prob_pred_ada = calibration_curve(y_test, ada_probs, n_bins=10)\n",
    "plt.plot(prob_pred_xgb, prob_true_xgb, marker='o', label='Calibrated XGBoost')\n",
    "plt.plot(prob_pred_ada, prob_true_ada, marker='o', label='AdaBoost')\n",
    "plt.plot([0, 1], [0, 1], linestyle='--', color='gray', label='Perfect Calibration')\n",
    "\n",
    "plt.xlabel('Mean Predicted Probability')\n",
    "plt.ylabel('Fraction of Positives')\n",
    "plt.title('Calibration Curve Comparison')\n",
    "plt.legend()\n",
    "plt.grid()\n",
    "plt.show()\n"
   ]
  },
  {
   "cell_type": "markdown",
   "id": "804dbb89",
   "metadata": {},
   "source": [
    "### Comparing all models graphically\n",
    "---"
   ]
  },
  {
   "cell_type": "code",
   "execution_count": null,
   "id": "399a49ca",
   "metadata": {},
   "outputs": [],
   "source": [
    "fig, ax = plt.subplots(figsize=(8, 6))\n",
    "\n",
    "# Plot Logistic Regression with SMOTE\n",
    "CalibrationDisplay.from_estimator(model_lr, X_test, y_test, name='Logistic Regression base model',\n",
    "                                  n_bins=20, strategy='quantile', ax=ax)\n",
    "CalibrationDisplay.from_estimator(model_lr_smote, X_test, y_test, name='Logistic Regression with SMOTE',\n",
    "                                  n_bins=20, strategy='quantile', ax=ax)\n",
    "\n",
    "# Plot AdaBoost\n",
    "CalibrationDisplay.from_estimator(ada_model, X_test, y_test, name='AdaBoost',\n",
    "                                  n_bins=20, strategy='quantile', ax=ax)\n",
    "\n",
    "# Plot Calibrated XGBoost\n",
    "CalibrationDisplay.from_estimator(calibrated_xgb, X_test, y_test, name='Calibrated XGBoost',\n",
    "                                  n_bins=20, strategy='quantile', ax=ax)\n",
    "\n",
    "# Add perfect calibration line\n",
    "ax.plot([0, 1], [0, 1], linestyle='--', color='black', label='Perfectly calibrated')\n",
    "\n",
    "# Final formatting\n",
    "ax.set_title('Calibration Curve Comparison')\n",
    "ax.set_xlabel('Mean predicted probability (Positive class: 1)')\n",
    "ax.set_ylabel('Fraction of positives (Positive class: 1)')\n",
    "ax.legend()\n",
    "plt.grid(True)\n",
    "plt.tight_layout()\n",
    "plt.show()"
   ]
  },
  {
   "cell_type": "markdown",
   "id": "13f6b912",
   "metadata": {},
   "source": [
    "### Creating the probability histogram comparison\n",
    "---"
   ]
  },
  {
   "cell_type": "code",
   "execution_count": null,
   "id": "879dbd05",
   "metadata": {},
   "outputs": [],
   "source": [
    "# Set up plots\n",
    "fig, axs = plt.subplots(1, 3, figsize=(18, 4), sharey=True)\n",
    "\n",
    "# Plot histograms\n",
    "axs[0].hist(lr_proba, bins=10, color='red', edgecolor='black')\n",
    "axs[0].set_title(\"Logistic Regression\")\n",
    "axs[0].set_xlabel(\"Mean predicted probability\")\n",
    "axs[0].set_ylabel(\"Count\")\n",
    "\n",
    "axs[0].hist(lr_smote_proba, bins=10, color='blue', edgecolor='black')\n",
    "axs[0].set_title(\"Logistic Regression\")\n",
    "axs[0].set_xlabel(\"Mean predicted probability\")\n",
    "axs[0].set_ylabel(\"Count\")\n",
    "\n",
    "axs[1].hist(ada_probs, bins=10, color='orange', edgecolor='black')\n",
    "axs[1].set_title(\"AdaBoost\")\n",
    "axs[1].set_xlabel(\"Mean predicted probability\")\n",
    "\n",
    "axs[2].hist(calibrated_probs, bins=10, color='green', edgecolor='black')\n",
    "axs[2].set_title(\"Calibrated XGBoost\")\n",
    "axs[2].set_xlabel(\"Mean predicted probability\")\n",
    "\n",
    "plt.suptitle(\"Predicted Probability Histograms (Confidence)\")\n",
    "plt.tight_layout()\n",
    "plt.show()"
   ]
  },
  {
   "cell_type": "code",
   "execution_count": null,
   "id": "81ffa51e",
   "metadata": {},
   "outputs": [],
   "source": [
    "# Plot histograms of predicted probabilities for all models\n",
    "# Ensure all models have been trained and probabilities calculated\n",
    "plt.figure(figsize=(10, 6))\n",
    "bins = np.linspace(0.5, 1.0, 30)  # Match earlier setup\n",
    "\n",
    "plt.hist(lr_proba, bins=bins, alpha=0.5, label='Logistic Baseline', color='steelblue')\n",
    "plt.hist(lr_smote_proba, bins=bins, alpha=0.5, label='Logistic with SMOTE', color='red')\n",
    "plt.hist(ada_probs, bins=bins, alpha=0.5, label='AdaBoost', color='orange')\n",
    "plt.hist(calibrated_probs, bins=bins, alpha=0.5, label='Calibrated XGBoost', color='green')\n",
    "\n",
    "plt.xlabel(\"Predicted Probability\")\n",
    "plt.ylabel(\"Frequency\")\n",
    "plt.title(\"Histogram of Predicted Probabilities\")\n",
    "plt.legend()\n",
    "plt.grid()\n",
    "plt.tight_layout()\n",
    "plt.savefig(\"outputs/histogram_probs.png\", dpi=300)\n",
    "plt.show()"
   ]
  },
  {
   "cell_type": "markdown",
   "id": "477cdecb",
   "metadata": {},
   "source": [
    "### Creating a ROC curve altogether\n",
    "---"
   ]
  },
  {
   "cell_type": "code",
   "execution_count": null,
   "id": "b3103bab",
   "metadata": {},
   "outputs": [],
   "source": [
    "# Roc Curve:\n",
    "import os\n",
    "os.makedirs(\"outputs\", exist_ok=True)\n",
    "\n",
    "from sklearn.metrics import RocCurveDisplay\n",
    "import matplotlib.pyplot as plt\n",
    "\n",
    "# Create new figure each time\n",
    "fig, ax = plt.subplots(figsize=(8, 6))\n",
    "RocCurveDisplay.from_predictions(y_test, lr_proba, name=\"Logistic baseline\", ax=ax)\n",
    "RocCurveDisplay.from_predictions(y_test, lr_smote_proba, name=\"Logistic with SMOTE\", ax=ax)\n",
    "RocCurveDisplay.from_predictions(y_test, ada_probs, name=\"AdaBoost\", ax=ax)\n",
    "RocCurveDisplay.from_predictions(y_test, calibrated_probs, name=\"Calibrated XGBoost\", ax=ax)\n",
    "\n",
    "plt.title(\"ROC Curve\")\n",
    "plt.grid()\n",
    "\n",
    "# Save to file first\n",
    "fig.savefig(\"outputs/roc_curve.png\", dpi=300, bbox_inches='tight')\n",
    "\n",
    "# Then show it\n",
    "plt.show()\n",
    "plt.close(fig)\n"
   ]
  },
  {
   "cell_type": "markdown",
   "id": "a0dca129",
   "metadata": {},
   "source": [
    "### Creating precision recall curve\n",
    "---"
   ]
  },
  {
   "cell_type": "code",
   "execution_count": null,
   "id": "5715052f",
   "metadata": {},
   "outputs": [],
   "source": [
    "fig, ax = plt.subplots(figsize=(8, 6))\n",
    "PrecisionRecallDisplay.from_predictions(y_test, lr_proba, name=\"Logistic\", ax=ax)\n",
    "PrecisionRecallDisplay.from_predictions(y_test, lr_smote_proba, name=\"Logistic\", ax=ax)\n",
    "PrecisionRecallDisplay.from_predictions(y_test, ada_probs, name=\"AdaBoost\", ax=ax)\n",
    "PrecisionRecallDisplay.from_predictions(y_test, calibrated_probs, name=\"Calibrated XGBoost\", ax=ax)\n",
    "\n",
    "plt.title(\"Precision-Recall Curve\")\n",
    "plt.grid()\n",
    "\n",
    "# Save the figure BEFORE showing it\n",
    "fig.savefig(\"outputs/precision_recall_curve.png\", dpi=300, bbox_inches='tight')\n",
    "\n",
    "# Show the figure\n",
    "plt.show()\n",
    "plt.close(fig)"
   ]
  }
 ],
 "metadata": {
  "kernelspec": {
   "display_name": "erdos_summer_2025",
   "language": "python",
   "name": "python3"
  },
  "language_info": {
   "codemirror_mode": {
    "name": "ipython",
    "version": 3
   },
   "file_extension": ".py",
   "mimetype": "text/x-python",
   "name": "python",
   "nbconvert_exporter": "python",
   "pygments_lexer": "ipython3",
   "version": "3.12.10"
  }
 },
 "nbformat": 4,
 "nbformat_minor": 5
}
