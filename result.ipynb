{
 "cells": [
  {
   "cell_type": "markdown",
   "id": "089dec97",
   "metadata": {},
   "source": [
    "# Erdös Institute\n",
    "## Data Science Boot Camp Project: Police Interaction\n",
    "--- "
   ]
  },
  {
   "cell_type": "code",
   "execution_count": null,
   "id": "ad8c9ead",
   "metadata": {},
   "outputs": [],
   "source": [
    "import pandas as pd\n",
    "df = pd.read_csv('/Users/patrickma1994/Documents/data.tsv', sep='\\t',dtype='str')\n",
    "df.info()"
   ]
  },
  {
   "cell_type": "code",
   "execution_count": null,
   "id": "5ca86b5c",
   "metadata": {},
   "outputs": [],
   "source": [
    "# Checking if the value satisfy the codebook\n",
    "print(df['V347'].value_counts())\n",
    "list(df.columns)"
   ]
  },
  {
   "cell_type": "code",
   "execution_count": null,
   "id": "830053b3",
   "metadata": {},
   "outputs": [],
   "source": [
    "df_m = df[['AGE', 'HISP', 'SEX', 'INCOME', 'V347']].rename(columns={'V347': 'proper_behave'})\n",
    "df_m.head()"
   ]
  },
  {
   "cell_type": "code",
   "execution_count": null,
   "id": "2cb1f22b",
   "metadata": {},
   "outputs": [],
   "source": [
    "# Convert columns to categorical\n",
    "df_m['AGE'] = pd.Categorical(df_m['AGE'])\n",
    "df_m['HISP'] = pd.Categorical(df_m['HISP'])\n",
    "df_m['SEX'] = pd.Categorical(df_m['SEX'])\n",
    "df_m['INCOME'] = pd.Categorical(df_m['INCOME'])\n",
    "\n",
    "# Filter rows where proper_behave is 1 or 2\n",
    "df_m = df_m[df_m['proper_behave'].isin(['1', '2'])]\n",
    "\n",
    "# Remap proper_behave values\n",
    "df_m['proper_behave'] = df_m['proper_behave'].map({'1': 1, '2': 0})\n",
    "\n",
    "# Convert proper_behave to numeric and checking the colume number\n",
    "df_m['proper_behave'] = pd.to_numeric(df_m['proper_behave'])\n",
    "df_m.shape \n",
    "#df_m.head()\n",
    "# Check missing values in all columns\n",
    "print(\"Missing values in each column:\")\n",
    "print(df_m.isnull().sum())\n",
    "# Seems to be no missing values to the current dataset"
   ]
  },
  {
   "cell_type": "code",
   "execution_count": null,
   "id": "ed9c7c01",
   "metadata": {},
   "outputs": [],
   "source": [
    "# Drop rows with missing values in AGE, HISP, SEX, and INCOME\n",
    "df_m = df_m.dropna(subset=['AGE', 'HISP', 'SEX', 'INCOME'])\n",
    "\n",
    "# Verify the shape after dropping missing values\n",
    "print(\"\\nDataFrame shape after dropping missing values:\")\n",
    "print(df_m.shape)\n",
    "\n",
    "# Verify there are no more missing values in these columns\n",
    "print(\"\\nRemaining missing values:\")\n",
    "print(df_m[['AGE', 'HISP', 'SEX', 'INCOME']].isnull().sum())"
   ]
  }
 ],
 "metadata": {
  "kernelspec": {
   "display_name": "erdos_summer_2025",
   "language": "python",
   "name": "python3"
  },
  "language_info": {
   "codemirror_mode": {
    "name": "ipython",
    "version": 3
   },
   "file_extension": ".py",
   "mimetype": "text/x-python",
   "name": "python",
   "nbconvert_exporter": "python",
   "pygments_lexer": "ipython3",
   "version": "3.12.10"
  }
 },
 "nbformat": 4,
 "nbformat_minor": 5
}
