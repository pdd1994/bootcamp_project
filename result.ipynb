{
 "cells": [
  {
   "cell_type": "markdown",
   "id": "089dec97",
   "metadata": {},
   "source": [
    "# Erdös Institute\n",
    "## Data Science Boot Camp Project: Police Interaction\n",
    "--- "
   ]
  },
  {
   "cell_type": "code",
   "execution_count": 30,
   "id": "ad8c9ead",
   "metadata": {},
   "outputs": [
    {
     "name": "stdout",
     "output_type": "stream",
     "text": [
      "<class 'pandas.core.frame.DataFrame'>\n",
      "RangeIndex: 130122 entries, 0 to 130121\n",
      "Columns: 277 entries, SCRMCTRL to V353\n",
      "dtypes: object(277)\n",
      "memory usage: 275.0+ MB\n"
     ]
    }
   ],
   "source": [
    "# Importing libraries needed\n",
    "import pandas as pd\n",
    "import numpy as np\n",
    "from xgboost import XGBClassifier\n",
    "from sklearn.model_selection import train_test_split, cross_val_score\n",
    "from sklearn.metrics import (confusion_matrix, classification_report, \n",
    "                           ConfusionMatrixDisplay, roc_curve, auc, confusion_matrix, roc_auc_score)\n",
    "\n",
    "# install imbalanced learn in your conda environment before preceding\n",
    "from imblearn.over_sampling import SMOTE\n",
    "from xgboost import XGBClassifier\n",
    "from collections import Counter\n",
    "import matplotlib.pyplot as plt\n",
    "from sklearn.linear_model import LogisticRegression\n",
    "\n",
    "df = pd.read_csv('/Users/patrickma1994/Documents/data.tsv', sep='\\t',dtype='str')\n",
    "df.info()"
   ]
  },
  {
   "cell_type": "code",
   "execution_count": 14,
   "id": "5ca86b5c",
   "metadata": {},
   "outputs": [
    {
     "name": "stdout",
     "output_type": "stream",
     "text": [
      "V347\n",
      "9     112008\n",
      "1      16628\n",
      "2        903\n",
      "3        529\n",
      "8         40\n",
      "98        14\n",
      "Name: count, dtype: int64\n"
     ]
    },
    {
     "data": {
      "text/plain": [
       "['SCRMCTRL',\n",
       " 'PPCSWGT',\n",
       " 'SEQNUM',\n",
       " 'SEX',\n",
       " 'AGE',\n",
       " 'INTTYPE',\n",
       " 'NONINT',\n",
       " 'HISP',\n",
       " 'MODE',\n",
       " 'PSSTRATA',\n",
       " 'SECUCODE',\n",
       " 'INCOME',\n",
       " 'V10A',\n",
       " 'V10B',\n",
       " 'V10C',\n",
       " 'V10D',\n",
       " 'V10E',\n",
       " 'V10F',\n",
       " 'V10G',\n",
       " 'V10H',\n",
       " 'V10I',\n",
       " 'V10J',\n",
       " 'V10K',\n",
       " 'V10L',\n",
       " 'V10M',\n",
       " 'V10N',\n",
       " 'V22A',\n",
       " 'V22B',\n",
       " 'V22C',\n",
       " 'V22D',\n",
       " 'V22E',\n",
       " 'V22F',\n",
       " 'V22G',\n",
       " 'V22H',\n",
       " 'V22I',\n",
       " 'V22J',\n",
       " 'V22K',\n",
       " 'V22L',\n",
       " 'V22M',\n",
       " 'V22N',\n",
       " 'V22O',\n",
       " 'V22P',\n",
       " 'V23A',\n",
       " 'V23B',\n",
       " 'V23C',\n",
       " 'V23D',\n",
       " 'V23E',\n",
       " 'V23F',\n",
       " 'V23G',\n",
       " 'V23H',\n",
       " 'V23I',\n",
       " 'V23J',\n",
       " 'V23K',\n",
       " 'V23L',\n",
       " 'V23M',\n",
       " 'V23N',\n",
       " 'V23O',\n",
       " 'V23P',\n",
       " 'V23Q',\n",
       " 'V23R',\n",
       " 'V23S',\n",
       " 'V1',\n",
       " 'V23T',\n",
       " 'V23U',\n",
       " 'V23V',\n",
       " 'V23W',\n",
       " 'V23X',\n",
       " 'V23Y',\n",
       " 'V23Z',\n",
       " 'V24A',\n",
       " 'V24B',\n",
       " 'V24C',\n",
       " 'V24J',\n",
       " 'V24D',\n",
       " 'V24E',\n",
       " 'V24F',\n",
       " 'V24G',\n",
       " 'V24H',\n",
       " 'V24I',\n",
       " 'CHECK_ITEM_B',\n",
       " 'CHECK_ITEM_B1A',\n",
       " 'CHECK_ITEM_B1B',\n",
       " 'CHECK_ITEM_B1C',\n",
       " 'CHECK_ITEM_B1D',\n",
       " 'CHECK_ITEM_B1E',\n",
       " 'CHECK_ITEM_B1F',\n",
       " 'CHECK_ITEM_B1G',\n",
       " 'CHECK_ITEM_B1H',\n",
       " 'CHECK_ITEM_B1I',\n",
       " 'CHECK_ITEM_B1J',\n",
       " 'CHECK_ITEM_B1K',\n",
       " 'V32',\n",
       " 'CHECK_ITEM_B2A',\n",
       " 'CHECK_ITEM_B2B',\n",
       " 'CHECK_ITEM_B2C',\n",
       " 'CHECK_ITEM_B2D',\n",
       " 'CHECK_ITEM_B2E',\n",
       " 'CHECK_ITEM_B2F',\n",
       " 'CHECK_ITEM_B2G',\n",
       " 'CHECK_ITEM_B2H',\n",
       " 'CHECK_ITEM_B2I',\n",
       " 'CHECK_ITEM_B2J',\n",
       " 'CHECK_ITEM_B2K',\n",
       " 'V33',\n",
       " 'V33A',\n",
       " 'V344',\n",
       " 'V345',\n",
       " 'V346',\n",
       " 'CHECK_ITEM_B3A',\n",
       " 'CHECK_ITEM_B3B',\n",
       " 'CHECK_ITEM_B3C',\n",
       " 'CHECK_ITEM_B3D',\n",
       " 'CHECK_ITEM_B3E',\n",
       " 'CHECK_ITEM_B3F',\n",
       " 'CHECK_ITEM_B3G',\n",
       " 'CHECK_ITEM_B3H',\n",
       " 'CHECK_ITEM_B3I',\n",
       " 'CHECK_ITEM_B3J',\n",
       " 'CHECK_ITEM_B3K',\n",
       " 'V36',\n",
       " 'V38',\n",
       " 'V34',\n",
       " 'V35',\n",
       " 'V39',\n",
       " 'V40',\n",
       " 'V41',\n",
       " 'V42',\n",
       " 'V43',\n",
       " 'V44',\n",
       " 'V45',\n",
       " 'V46',\n",
       " 'V47',\n",
       " 'V48',\n",
       " 'CHECK_ITEM_C',\n",
       " 'V49',\n",
       " 'V50',\n",
       " 'V51',\n",
       " 'V52',\n",
       " 'V53',\n",
       " 'V54',\n",
       " 'V62',\n",
       " 'V63',\n",
       " 'V64',\n",
       " 'V66',\n",
       " 'V205',\n",
       " 'V206',\n",
       " 'V210',\n",
       " 'V211',\n",
       " 'V212',\n",
       " 'V213',\n",
       " 'V230',\n",
       " 'V231',\n",
       " 'V214',\n",
       " 'V215',\n",
       " 'V216',\n",
       " 'V217',\n",
       " 'V218',\n",
       " 'V219',\n",
       " 'V220',\n",
       " 'V221',\n",
       " 'V222',\n",
       " 'V223',\n",
       " 'V224',\n",
       " 'V225',\n",
       " 'V226',\n",
       " 'V227',\n",
       " 'V232',\n",
       " 'V233',\n",
       " 'V234',\n",
       " 'V228',\n",
       " 'V229',\n",
       " 'V246',\n",
       " 'V247',\n",
       " 'V248',\n",
       " 'V250',\n",
       " 'V251',\n",
       " 'V65',\n",
       " 'V67A',\n",
       " 'V67',\n",
       " 'V68',\n",
       " 'V69',\n",
       " 'V70',\n",
       " 'V71',\n",
       " 'V72',\n",
       " 'V73',\n",
       " 'V74A',\n",
       " 'V74B',\n",
       " 'V74C',\n",
       " 'V74D',\n",
       " 'V75',\n",
       " 'V76',\n",
       " 'V77',\n",
       " 'V78',\n",
       " 'V79',\n",
       " 'V80',\n",
       " 'CHECK_ITEM_D',\n",
       " 'V81',\n",
       " 'V249',\n",
       " 'V321',\n",
       " 'V322',\n",
       " 'V323',\n",
       " 'CHECK_ITEM_E',\n",
       " 'V324',\n",
       " 'V327',\n",
       " 'V333',\n",
       " 'CHECK_ITEM_F',\n",
       " 'V325',\n",
       " 'V332',\n",
       " 'CHECK_ITEM_G',\n",
       " 'V334',\n",
       " 'CHECK_ITEM_H',\n",
       " 'V335',\n",
       " 'V279',\n",
       " 'V280',\n",
       " 'V281',\n",
       " 'V282',\n",
       " 'V283',\n",
       " 'V284',\n",
       " 'V285',\n",
       " 'V286',\n",
       " 'V287',\n",
       " 'V288',\n",
       " 'V291',\n",
       " 'V292',\n",
       " 'V299',\n",
       " 'V320',\n",
       " 'V320A',\n",
       " 'V300',\n",
       " 'CHECK_ITEM_I',\n",
       " 'V304',\n",
       " 'V305',\n",
       " 'V306',\n",
       " 'V307',\n",
       " 'V308',\n",
       " 'V309',\n",
       " 'V310',\n",
       " 'V311',\n",
       " 'V312',\n",
       " 'V313',\n",
       " 'V314',\n",
       " 'V315',\n",
       " 'V316',\n",
       " 'V317',\n",
       " 'V318',\n",
       " 'V319',\n",
       " 'V328',\n",
       " 'V329',\n",
       " 'V330',\n",
       " 'V337',\n",
       " 'V338',\n",
       " 'V339',\n",
       " 'V340',\n",
       " 'V341',\n",
       " 'V342',\n",
       " 'V347',\n",
       " 'V347A',\n",
       " 'V347D',\n",
       " 'V347E',\n",
       " 'V347F',\n",
       " 'V347G',\n",
       " 'V347H',\n",
       " 'V348',\n",
       " 'V349',\n",
       " 'V350B',\n",
       " 'V350C',\n",
       " 'CHECK_ITEM_J',\n",
       " 'V351A',\n",
       " 'V351B',\n",
       " 'CHECK_ITEM_K',\n",
       " 'V352A',\n",
       " 'V352B',\n",
       " 'V352C',\n",
       " 'V352D',\n",
       " 'V352E',\n",
       " 'V352F',\n",
       " 'CHECK_ITEM_L',\n",
       " 'V353']"
      ]
     },
     "execution_count": 14,
     "metadata": {},
     "output_type": "execute_result"
    }
   ],
   "source": [
    "# Checking if the value satisfy the codebook\n",
    "print(df['V347'].value_counts())\n",
    "list(df.columns)"
   ]
  },
  {
   "cell_type": "markdown",
   "id": "0c89b9da",
   "metadata": {},
   "source": [
    "By checking the codebook and "
   ]
  },
  {
   "cell_type": "code",
   "execution_count": 15,
   "id": "830053b3",
   "metadata": {},
   "outputs": [
    {
     "data": {
      "application/vnd.microsoft.datawrangler.viewer.v0+json": {
       "columns": [
        {
         "name": "index",
         "rawType": "int64",
         "type": "integer"
        },
        {
         "name": "AGE",
         "rawType": "object",
         "type": "string"
        },
        {
         "name": "HISP",
         "rawType": "object",
         "type": "string"
        },
        {
         "name": "SEX",
         "rawType": "object",
         "type": "string"
        },
        {
         "name": "INCOME",
         "rawType": "object",
         "type": "string"
        },
        {
         "name": "proper_behave",
         "rawType": "object",
         "type": "string"
        }
       ],
       "ref": "ae2115ce-7ce2-4ccb-8fd5-1abf8b6508ac",
       "rows": [
        [
         "0",
         "3",
         "3",
         "2",
         "3",
         "9"
        ],
        [
         "1",
         "3",
         "3",
         "1",
         "3",
         "9"
        ],
        [
         "2",
         "3",
         "1",
         "2",
         "4",
         "9"
        ],
        [
         "3",
         "3",
         "1",
         "1",
         "4",
         "9"
        ],
        [
         "4",
         "4",
         "1",
         "2",
         "3",
         "9"
        ]
       ],
       "shape": {
        "columns": 5,
        "rows": 5
       }
      },
      "text/html": [
       "<div>\n",
       "<style scoped>\n",
       "    .dataframe tbody tr th:only-of-type {\n",
       "        vertical-align: middle;\n",
       "    }\n",
       "\n",
       "    .dataframe tbody tr th {\n",
       "        vertical-align: top;\n",
       "    }\n",
       "\n",
       "    .dataframe thead th {\n",
       "        text-align: right;\n",
       "    }\n",
       "</style>\n",
       "<table border=\"1\" class=\"dataframe\">\n",
       "  <thead>\n",
       "    <tr style=\"text-align: right;\">\n",
       "      <th></th>\n",
       "      <th>AGE</th>\n",
       "      <th>HISP</th>\n",
       "      <th>SEX</th>\n",
       "      <th>INCOME</th>\n",
       "      <th>proper_behave</th>\n",
       "    </tr>\n",
       "  </thead>\n",
       "  <tbody>\n",
       "    <tr>\n",
       "      <th>0</th>\n",
       "      <td>3</td>\n",
       "      <td>3</td>\n",
       "      <td>2</td>\n",
       "      <td>3</td>\n",
       "      <td>9</td>\n",
       "    </tr>\n",
       "    <tr>\n",
       "      <th>1</th>\n",
       "      <td>3</td>\n",
       "      <td>3</td>\n",
       "      <td>1</td>\n",
       "      <td>3</td>\n",
       "      <td>9</td>\n",
       "    </tr>\n",
       "    <tr>\n",
       "      <th>2</th>\n",
       "      <td>3</td>\n",
       "      <td>1</td>\n",
       "      <td>2</td>\n",
       "      <td>4</td>\n",
       "      <td>9</td>\n",
       "    </tr>\n",
       "    <tr>\n",
       "      <th>3</th>\n",
       "      <td>3</td>\n",
       "      <td>1</td>\n",
       "      <td>1</td>\n",
       "      <td>4</td>\n",
       "      <td>9</td>\n",
       "    </tr>\n",
       "    <tr>\n",
       "      <th>4</th>\n",
       "      <td>4</td>\n",
       "      <td>1</td>\n",
       "      <td>2</td>\n",
       "      <td>3</td>\n",
       "      <td>9</td>\n",
       "    </tr>\n",
       "  </tbody>\n",
       "</table>\n",
       "</div>"
      ],
      "text/plain": [
       "  AGE HISP SEX INCOME proper_behave\n",
       "0   3    3   2      3             9\n",
       "1   3    3   1      3             9\n",
       "2   3    1   2      4             9\n",
       "3   3    1   1      4             9\n",
       "4   4    1   2      3             9"
      ]
     },
     "execution_count": 15,
     "metadata": {},
     "output_type": "execute_result"
    }
   ],
   "source": [
    "df_m = df[['AGE', 'HISP', 'SEX', 'INCOME', 'V347']].rename(columns={'V347': 'proper_behave'})\n",
    "df_m.head()"
   ]
  },
  {
   "cell_type": "code",
   "execution_count": 16,
   "id": "2cb1f22b",
   "metadata": {},
   "outputs": [
    {
     "name": "stdout",
     "output_type": "stream",
     "text": [
      "Missing values in each column:\n",
      "AGE              0\n",
      "HISP             0\n",
      "SEX              0\n",
      "INCOME           0\n",
      "proper_behave    0\n",
      "dtype: int64\n"
     ]
    }
   ],
   "source": [
    "# Convert columns to categorical\n",
    "df_m['AGE'] = pd.Categorical(df_m['AGE'])\n",
    "df_m['HISP'] = pd.Categorical(df_m['HISP'])\n",
    "df_m['SEX'] = pd.Categorical(df_m['SEX'])\n",
    "df_m['INCOME'] = pd.Categorical(df_m['INCOME'])\n",
    "\n",
    "# Filter rows where proper_behave is 1 or 2\n",
    "df_m = df_m[df_m['proper_behave'].isin(['1', '2'])]\n",
    "\n",
    "# Remap proper_behave values\n",
    "df_m['proper_behave'] = df_m['proper_behave'].map({'1': 1, '2': 0})\n",
    "\n",
    "# Convert proper_behave to numeric and checking the column number\n",
    "df_m['proper_behave'] = pd.to_numeric(df_m['proper_behave'])\n",
    "df_m.shape \n",
    "#df_m.head()\n",
    "# Check missing values in all columns\n",
    "print(\"Missing values in each column:\")\n",
    "print(df_m.isnull().sum())\n",
    "# Seems to be no missing values to the current dataset"
   ]
  },
  {
   "cell_type": "markdown",
   "id": "4164e2b7",
   "metadata": {},
   "source": [
    "The following codes drops missing values, but our data doesn't have missing values for the features selected. "
   ]
  },
  {
   "cell_type": "code",
   "execution_count": 17,
   "id": "ed9c7c01",
   "metadata": {},
   "outputs": [
    {
     "name": "stdout",
     "output_type": "stream",
     "text": [
      "\n",
      "DataFrame shape after dropping missing values:\n",
      "(17531, 5)\n",
      "\n",
      "Remaining missing values:\n",
      "AGE       0\n",
      "HISP      0\n",
      "SEX       0\n",
      "INCOME    0\n",
      "dtype: int64\n"
     ]
    }
   ],
   "source": [
    "# Drop rows with missing values in AGE, HISP, SEX, and INCOME\n",
    "df_m = df_m.dropna(subset=['AGE', 'HISP', 'SEX', 'INCOME'])\n",
    "\n",
    "# Verify the shape after dropping missing values\n",
    "print(\"\\nDataFrame shape after dropping missing values:\")\n",
    "print(df_m.shape)\n",
    "\n",
    "# Verify there are no more missing values in these columns\n",
    "print(\"\\nRemaining missing values:\")\n",
    "print(df_m[['AGE', 'HISP', 'SEX', 'INCOME']].isnull().sum())"
   ]
  },
  {
   "cell_type": "markdown",
   "id": "a795f1ed",
   "metadata": {},
   "source": [
    "### Creating Training and Testing Data Sets\n",
    "---\n",
    "The data set is splitted into 80% and 20%. \n"
   ]
  },
  {
   "cell_type": "code",
   "execution_count": 18,
   "id": "f5d5e692",
   "metadata": {},
   "outputs": [],
   "source": [
    "# Create dummy variables for categorical predictors\n",
    "X = pd.get_dummies(df_m[['AGE', 'HISP', 'SEX', 'INCOME']], drop_first=True)\n",
    "y = df_m['proper_behave']\n",
    "\n",
    "X_train, X_test, y_train, y_test = train_test_split(X, y, test_size=0.2, random_state=42)"
   ]
  },
  {
   "cell_type": "markdown",
   "id": "c9be72fa",
   "metadata": {},
   "source": [
    "### Logistic regression result\n",
    "---\n",
    "In the following model setup, the y(dependent variable is \"proper_behave\"), the dependent variable is the following:\n",
    "1. HISP: surveys if the the interviewee's ethnicity\n",
    "2. INCOME: surveys the interviewee's income level\n",
    "3. SEX: surveys the interviewee's gender\n",
    "4. AGE: surveys the interviewee's age\n",
    "\n",
    "A confusion matrix is provided below."
   ]
  },
  {
   "cell_type": "code",
   "execution_count": 19,
   "id": "2217b70f",
   "metadata": {},
   "outputs": [
    {
     "name": "stdout",
     "output_type": "stream",
     "text": [
      "Model accuracy: 0.9458226404334189\n"
     ]
    },
    {
     "data": {
      "image/png": "[encoded data removed]",
      "text/plain": [
       "<Figure size 640x480 with 2 Axes>"
      ]
     },
     "metadata": {},
     "output_type": "display_data"
    },
    {
     "name": "stdout",
     "output_type": "stream",
     "text": [
      "\n",
      "Classification Report:\n",
      "              precision    recall  f1-score   support\n",
      "\n",
      "           0       0.00      0.00      0.00       190\n",
      "           1       0.95      1.00      0.97      3317\n",
      "\n",
      "    accuracy                           0.95      3507\n",
      "   macro avg       0.47      0.50      0.49      3507\n",
      "weighted avg       0.89      0.95      0.92      3507\n",
      "\n"
     ]
    },
    {
     "name": "stderr",
     "output_type": "stream",
     "text": [
      "/opt/anaconda3/envs/erdos_summer_2025/lib/python3.12/site-packages/sklearn/metrics/_classification.py:1565: UndefinedMetricWarning: Precision is ill-defined and being set to 0.0 in labels with no predicted samples. Use `zero_division` parameter to control this behavior.\n",
      "  _warn_prf(average, modifier, f\"{metric.capitalize()} is\", len(result))\n",
      "/opt/anaconda3/envs/erdos_summer_2025/lib/python3.12/site-packages/sklearn/metrics/_classification.py:1565: UndefinedMetricWarning: Precision is ill-defined and being set to 0.0 in labels with no predicted samples. Use `zero_division` parameter to control this behavior.\n",
      "  _warn_prf(average, modifier, f\"{metric.capitalize()} is\", len(result))\n",
      "/opt/anaconda3/envs/erdos_summer_2025/lib/python3.12/site-packages/sklearn/metrics/_classification.py:1565: UndefinedMetricWarning: Precision is ill-defined and being set to 0.0 in labels with no predicted samples. Use `zero_division` parameter to control this behavior.\n",
      "  _warn_prf(average, modifier, f\"{metric.capitalize()} is\", len(result))\n"
     ]
    }
   ],
   "source": [
    "# Create and fit the logistic regression model\n",
    "model_lr = LogisticRegression(random_state=42)\n",
    "model_lr.fit(X_train, y_train)\n",
    "\n",
    "print(\"Model accuracy:\", model_lr.score(X_test, y_test))\n",
    "\n",
    "from sklearn.metrics import confusion_matrix, ConfusionMatrixDisplay\n",
    "import matplotlib.pyplot as plt\n",
    "# Get predictions on test set\n",
    "y_pred = model_lr.predict(X_test)\n",
    "\n",
    "# Create and plot confusion matrix\n",
    "cm = confusion_matrix(y_test, y_pred)\n",
    "disp = ConfusionMatrixDisplay(confusion_matrix=cm, display_labels=['No', 'Yes'])\n",
    "disp.plot(cmap='Reds')\n",
    "plt.title('Confusion Matrix')\n",
    "plt.show()\n",
    "\n",
    "# Print classification metrics\n",
    "from sklearn.metrics import classification_report\n",
    "print(\"\\nClassification Report:\")\n",
    "print(classification_report(y_test, y_pred))"
   ]
  },
  {
   "cell_type": "markdown",
   "id": "3b16eb02",
   "metadata": {},
   "source": [
    "#### Reporting the logistic regression without SMOTE balancing\n",
    "---\n",
    "The coefficients of the logistic regression is as:"
   ]
  },
  {
   "cell_type": "code",
   "execution_count": 20,
   "id": "9b43b435",
   "metadata": {},
   "outputs": [
    {
     "name": "stdout",
     "output_type": "stream",
     "text": [
      "\n",
      "Model coefficients:\n",
      "    Feature  Coefficient\n",
      "0     AGE_2    -0.228835\n",
      "1     AGE_3    -0.307666\n",
      "2     AGE_4    -0.305055\n",
      "3     AGE_5     0.064544\n",
      "4    HISP_2    -0.760991\n",
      "5    HISP_3    -0.345771\n",
      "6    HISP_4     0.066357\n",
      "7    HISP_5    -0.150707\n",
      "8     SEX_2     0.025924\n",
      "9  INCOME_4     0.309839\n"
     ]
    }
   ],
   "source": [
    "# Get model coefficients\n",
    "coef_df = pd.DataFrame({\n",
    "    'Feature': X.columns,\n",
    "    'Coefficient': model_lr.coef_[0]\n",
    "})\n",
    "print(\"\\nModel coefficients:\")\n",
    "print(coef_df)"
   ]
  },
  {
   "cell_type": "markdown",
   "id": "a1f9f679",
   "metadata": {},
   "source": [
    "Logistic Regression: adding cross-validation for better result."
   ]
  },
  {
   "cell_type": "code",
   "execution_count": 22,
   "id": "7b1ceee2",
   "metadata": {},
   "outputs": [
    {
     "name": "stdout",
     "output_type": "stream",
     "text": [
      "Accuracy scores for each fold: [0.94838894 0.94865944 0.94865944 0.94837422 0.94837422]\n",
      "Mean accuracy: 0.948 (+/- 0.000)\n",
      "\n",
      "Precision scores for each fold: [0.47419447 0.47432972 0.47432972 0.47418711 0.47418711]\n",
      "Mean precision: 0.474 (+/- 0.000)\n",
      "\n",
      "Recall scores for each fold: [0.5 0.5 0.5 0.5 0.5]\n",
      "Mean recall: 0.500 (+/- 0.000)\n",
      "\n",
      "F1 scores for each fold: [0.48675545 0.4868267  0.4868267  0.48675157 0.48675157]\n",
      "Mean f1: 0.487 (+/- 0.000)\n",
      "\n"
     ]
    },
    {
     "name": "stderr",
     "output_type": "stream",
     "text": [
      "/opt/anaconda3/envs/erdos_summer_2025/lib/python3.12/site-packages/sklearn/metrics/_classification.py:1565: UndefinedMetricWarning: Precision is ill-defined and being set to 0.0 in labels with no predicted samples. Use `zero_division` parameter to control this behavior.\n",
      "  _warn_prf(average, modifier, f\"{metric.capitalize()} is\", len(result))\n",
      "/opt/anaconda3/envs/erdos_summer_2025/lib/python3.12/site-packages/sklearn/metrics/_classification.py:1565: UndefinedMetricWarning: Precision is ill-defined and being set to 0.0 in labels with no predicted samples. Use `zero_division` parameter to control this behavior.\n",
      "  _warn_prf(average, modifier, f\"{metric.capitalize()} is\", len(result))\n",
      "/opt/anaconda3/envs/erdos_summer_2025/lib/python3.12/site-packages/sklearn/metrics/_classification.py:1565: UndefinedMetricWarning: Precision is ill-defined and being set to 0.0 in labels with no predicted samples. Use `zero_division` parameter to control this behavior.\n",
      "  _warn_prf(average, modifier, f\"{metric.capitalize()} is\", len(result))\n",
      "/opt/anaconda3/envs/erdos_summer_2025/lib/python3.12/site-packages/sklearn/metrics/_classification.py:1565: UndefinedMetricWarning: Precision is ill-defined and being set to 0.0 in labels with no predicted samples. Use `zero_division` parameter to control this behavior.\n",
      "  _warn_prf(average, modifier, f\"{metric.capitalize()} is\", len(result))\n",
      "/opt/anaconda3/envs/erdos_summer_2025/lib/python3.12/site-packages/sklearn/metrics/_classification.py:1565: UndefinedMetricWarning: Precision is ill-defined and being set to 0.0 in labels with no predicted samples. Use `zero_division` parameter to control this behavior.\n",
      "  _warn_prf(average, modifier, f\"{metric.capitalize()} is\", len(result))\n"
     ]
    }
   ],
   "source": [
    "# Perform 5-fold cross-validation with multiple metrics\n",
    "cv_scores = {\n",
    "    'accuracy': cross_val_score(model_lr, X, y, cv=5, scoring='accuracy'),\n",
    "    'precision': cross_val_score(model_lr, X, y, cv=5, scoring='precision_macro'),\n",
    "    'recall': cross_val_score(model_lr, X, y, cv=5, scoring='recall_macro'),\n",
    "    'f1': cross_val_score(model_lr, X, y, cv=5, scoring='f1_macro')\n",
    "}\n",
    "\n",
    "# Print results\n",
    "for metric, scores in cv_scores.items():\n",
    "    print(f\"{metric.capitalize()} scores for each fold: {scores}\")\n",
    "    print(f\"Mean {metric}: {scores.mean():.3f} (+/- {scores.std() * 2:.3f})\")\n",
    "    print()\n"
   ]
  },
  {
   "cell_type": "markdown",
   "id": "28bb16f5",
   "metadata": {},
   "source": [
    "### SMOTE \n",
    "---"
   ]
  },
  {
   "cell_type": "code",
   "execution_count": 24,
   "id": "937a58d9",
   "metadata": {},
   "outputs": [
    {
     "name": "stdout",
     "output_type": "stream",
     "text": [
      "\n",
      "Classification Report - SMOTE Model:\n",
      "              precision    recall  f1-score   support\n",
      "\n",
      "           0       0.06      0.49      0.11       190\n",
      "           1       0.95      0.59      0.73      3317\n",
      "\n",
      "    accuracy                           0.58      3507\n",
      "   macro avg       0.51      0.54      0.42      3507\n",
      "weighted avg       0.90      0.58      0.69      3507\n",
      "\n"
     ]
    }
   ],
   "source": [
    "#Ensure numeric types for SMOTE\n",
    "X_train = X_train.astype(float)  # or int\n",
    "y_train = y_train.astype(int)\n",
    "# Implementing SMOTE\n",
    "smote = SMOTE(random_state=42)\n",
    "X_resampled, y_resampled = smote.fit_resample(X_train, y_train)\n",
    "\n",
    "# Train model with SMOTE-balanced data\n",
    "model_lr_smote = LogisticRegression(max_iter=1000, random_state=42)\n",
    "model_lr_smote.fit(X_resampled, y_resampled)\n",
    "\n",
    "# Evaluate SMOTE model\n",
    "y_pred_smote = model_lr_smote.predict(X_test)\n",
    "print(\"\\nClassification Report - SMOTE Model:\")\n",
    "print(classification_report(y_test, y_pred_smote))\n"
   ]
  },
  {
   "cell_type": "markdown",
   "id": "c966c4b2",
   "metadata": {},
   "source": [
    "### Printing out the confusion matrix for SMOTE and ROC curve\n",
    "---"
   ]
  },
  {
   "cell_type": "code",
   "execution_count": 25,
   "id": "c748fbe2",
   "metadata": {},
   "outputs": [
    {
     "data": {
      "image/png": "[encoded data removed]",
      "text/plain": [
       "<Figure size 640x480 with 2 Axes>"
      ]
     },
     "metadata": {},
     "output_type": "display_data"
    }
   ],
   "source": [
    "# Plot SMOTE confusion matrix\n",
    "cm_smote = confusion_matrix(y_test, y_pred_smote)\n",
    "disp_smote = ConfusionMatrixDisplay(confusion_matrix=cm_smote, display_labels=['No', 'Yes'])\n",
    "disp_smote.plot(cmap='Reds')\n",
    "plt.title('Confusion Matrix - Logistic Regression with SMOTE')\n",
    "plt.show()\n"
   ]
  },
  {
   "cell_type": "code",
   "execution_count": null,
   "id": "9274e6d6",
   "metadata": {},
   "outputs": [
    {
     "name": "stdout",
     "output_type": "stream",
     "text": [
      "\n",
      "Classification Report:\n",
      "              precision    recall  f1-score   support\n",
      "\n",
      "           0       0.06      0.49      0.11       190\n",
      "           1       0.95      0.59      0.73      3317\n",
      "\n",
      "    accuracy                           0.58      3507\n",
      "   macro avg       0.51      0.54      0.42      3507\n",
      "weighted avg       0.90      0.58      0.69      3507\n",
      "\n"
     ]
    },
    {
     "data": {
      "image/png": "[encoded data removed]",
      "text/plain": [
       "<Figure size 640x480 with 1 Axes>"
      ]
     },
     "metadata": {},
     "output_type": "display_data"
    },
    {
     "name": "stdout",
     "output_type": "stream",
     "text": [
      "\n",
      "Classification Report with threshold = 0.4:\n",
      "              precision    recall  f1-score   support\n",
      "\n",
      "           0       0.08      0.18      0.11       190\n",
      "           1       0.95      0.88      0.91      3317\n",
      "\n",
      "    accuracy                           0.84      3507\n",
      "   macro avg       0.51      0.53      0.51      3507\n",
      "weighted avg       0.90      0.84      0.87      3507\n",
      "\n"
     ]
    }
   ],
   "source": [
    "# Classification Report\n",
    "print(\"\\nClassification Report:\")\n",
    "print(classification_report(y_test, y_pred_smote))\n",
    "\n",
    "# ROC Curve\n",
    "y_scores = model_lr_smote.predict_proba(X_test)[:, 1]\n",
    "fpr, tpr, _ = roc_curve(y_test, y_scores)\n",
    "roc_auc = auc(fpr, tpr)\n",
    "\n",
    "plt.figure()\n",
    "plt.plot(fpr, tpr, label=f'ROC curve (area = {roc_auc:.2f})')\n",
    "plt.plot([0, 1], [0, 1], linestyle='--')\n",
    "plt.xlabel('False Positive Rate')\n",
    "plt.ylabel('True Positive Rate')\n",
    "plt.title('Receiver Operating Characteristic (ROC)')\n",
    "plt.legend()\n",
    "plt.grid(True)\n",
    "plt.show()\n",
    "\n",
    "# 11. Try different thresholds\n",
    "threshold = 0.40  # Custom threshold\n",
    "y_pred_custom = (y_scores > threshold).astype(int)\n",
    "\n",
    "print(f\"\\nClassification Report with threshold = {threshold}:\")\n",
    "print(classification_report(y_test, y_pred_custom))"
   ]
  },
  {
   "cell_type": "markdown",
   "id": "bfeeb08c",
   "metadata": {},
   "source": [
    "### Fitting the XGB model\n",
    "---\n",
    "We'll now implement XGBoost, which often provides better performance for classification tasks. We'll combine it with SMOTE to handle class imbalance."
   ]
  },
  {
   "cell_type": "code",
   "execution_count": null,
   "id": "a9767b32",
   "metadata": {},
   "outputs": [
    {
     "name": "stdout",
     "output_type": "stream",
     "text": [
      "Resampled label distribution: Counter({1: 13311, 0: 13311})\n"
     ]
    }
   ],
   "source": [
    "# Apply SMOTE to balance training data\n",
    "#smote = SMOTE(random_state=42)\n",
    "#X_resampled, y_resampled = smote.fit_resample(X_train, y_train)\n",
    "# Should already have resampled X and y, if not can resample here\n",
    "print(\"Resampled label distribution:\", Counter(y_resampled))"
   ]
  },
  {
   "cell_type": "code",
   "execution_count": 32,
   "id": "247556ad",
   "metadata": {},
   "outputs": [
    {
     "name": "stderr",
     "output_type": "stream",
     "text": [
      "/opt/anaconda3/envs/erdos_summer_2025/lib/python3.12/site-packages/xgboost/core.py:158: UserWarning: [11:53:59] WARNING: /Users/runner/miniforge3/conda-bld/xgboost-split_1744329043786/work/src/learner.cc:740: \n",
      "Parameters: { \"use_label_encoder\" } are not used.\n",
      "\n",
      "  warnings.warn(smsg, UserWarning)\n"
     ]
    }
   ],
   "source": [
    "# Initialize and train XGBoost model\n",
    "xgb_model = XGBClassifier(\n",
    "    use_label_encoder=False,\n",
    "    eval_metric='logloss',\n",
    "    scale_pos_weight=1.1,\n",
    "    random_state=42\n",
    ")\n",
    "xgb_model.fit(X_resampled, y_resampled)\n",
    "\n",
    "# Make predictions\n",
    "y_pred_xgb = xgb_model.predict(X_test)\n",
    "y_scores_xgb = xgb_model.predict_proba(X_test)[:, 1]"
   ]
  },
  {
   "cell_type": "markdown",
   "id": "635d72d1",
   "metadata": {},
   "source": [
    "### Model Evaluation - XGBoost Results\n",
    "---\n",
    "Let's evaluate the XGBoost model's performance using various metrics and visualizations."
   ]
  },
  {
   "cell_type": "code",
   "execution_count": 33,
   "id": "89981b6d",
   "metadata": {},
   "outputs": [
    {
     "data": {
      "image/png": "[encoded data removed]",
      "text/plain": [
       "<Figure size 640x480 with 2 Axes>"
      ]
     },
     "metadata": {},
     "output_type": "display_data"
    },
    {
     "name": "stdout",
     "output_type": "stream",
     "text": [
      "\n",
      "Classification Report:\n",
      "              precision    recall  f1-score   support\n",
      "\n",
      "           0       0.07      0.33      0.11       190\n",
      "           1       0.95      0.74      0.83      3317\n",
      "\n",
      "    accuracy                           0.71      3507\n",
      "   macro avg       0.51      0.53      0.47      3507\n",
      "weighted avg       0.90      0.71      0.79      3507\n",
      "\n"
     ]
    },
    {
     "data": {
      "image/png": "[encoded data removed]",
      "text/plain": [
       "<Figure size 640x480 with 1 Axes>"
      ]
     },
     "metadata": {},
     "output_type": "display_data"
    }
   ],
   "source": [
    "cm = confusion_matrix(y_test, y_pred_xgb)\n",
    "disp = ConfusionMatrixDisplay(confusion_matrix=cm, display_labels=['No', 'Yes'])\n",
    "disp.plot(cmap='Reds')\n",
    "plt.title(\"Confusion Matrix - XGBoost + SMOTE\")\n",
    "plt.show()\n",
    "\n",
    "print(\"\\nClassification Report:\")\n",
    "print(classification_report(y_test, y_pred_xgb))\n",
    "\n",
    "# ROC Curve\n",
    "fpr, tpr, _ = roc_curve(y_test, y_scores_xgb)\n",
    "roc_auc = auc(fpr, tpr)\n",
    "\n",
    "plt.figure()\n",
    "plt.plot(fpr, tpr, label=f'ROC curve (area = {roc_auc:.2f})')\n",
    "plt.plot([0, 1], [0, 1], linestyle='--')\n",
    "plt.xlabel('False Positive Rate')\n",
    "plt.ylabel('True Positive Rate')\n",
    "plt.title('ROC Curve - XGBoost with SMOTE')\n",
    "plt.legend()\n",
    "plt.grid(True)\n",
    "plt.show()"
   ]
  }
 ],
 "metadata": {
  "kernelspec": {
   "display_name": "erdos_summer_2025",
   "language": "python",
   "name": "python3"
  },
  "language_info": {
   "codemirror_mode": {
    "name": "ipython",
    "version": 3
   },
   "file_extension": ".py",
   "mimetype": "text/x-python",
   "name": "python",
   "nbconvert_exporter": "python",
   "pygments_lexer": "ipython3",
   "version": "3.12.10"
  }
 },
 "nbformat": 4,
 "nbformat_minor": 5
}
