{
 "cells": [
  {
   "cell_type": "markdown",
   "id": "089dec97",
   "metadata": {},
   "source": [
    "# Erdös Institute\n",
    "## Data Science Boot Camp Project: Police Interaction\n",
    "--- "
   ]
  },
  {
   "cell_type": "code",
   "execution_count": 1,
   "id": "ad8c9ead",
   "metadata": {},
   "outputs": [
    {
     "name": "stdout",
     "output_type": "stream",
     "text": [
      "<class 'pandas.core.frame.DataFrame'>\n",
      "RangeIndex: 130122 entries, 0 to 130121\n",
      "Columns: 277 entries, SCRMCTRL to V353\n",
      "dtypes: object(277)\n",
      "memory usage: 275.0+ MB\n"
     ]
    }
   ],
   "source": [
    "import pandas as pd\n",
    "df = pd.read_csv('/Users/patrickma1994/Documents/data.tsv', sep='\\t',dtype='str')\n",
    "df.info()"
   ]
  },
  {
   "cell_type": "code",
   "execution_count": 2,
   "id": "5ca86b5c",
   "metadata": {},
   "outputs": [
    {
     "name": "stdout",
     "output_type": "stream",
     "text": [
      "0         9\n",
      "1         9\n",
      "2         9\n",
      "3         9\n",
      "4         9\n",
      "         ..\n",
      "130117    9\n",
      "130118    9\n",
      "130119    9\n",
      "130120    3\n",
      "130121    9\n",
      "Name: V347, Length: 130122, dtype: object\n",
      "V347\n",
      "9     112008\n",
      "1      16628\n",
      "2        903\n",
      "3        529\n",
      "8         40\n",
      "98        14\n",
      "Name: count, dtype: int64\n"
     ]
    }
   ],
   "source": [
    "# Checking if the value satisfy the \n",
    "print(df['V347'])\n",
    "print(df['V347'].value_counts())"
   ]
  }
 ],
 "metadata": {
  "kernelspec": {
   "display_name": "erdos_summer_2025",
   "language": "python",
   "name": "python3"
  },
  "language_info": {
   "codemirror_mode": {
    "name": "ipython",
    "version": 3
   },
   "file_extension": ".py",
   "mimetype": "text/x-python",
   "name": "python",
   "nbconvert_exporter": "python",
   "pygments_lexer": "ipython3",
   "version": "3.12.10"
  }
 },
 "nbformat": 4,
 "nbformat_minor": 5
}
