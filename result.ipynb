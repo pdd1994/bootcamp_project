{
 "cells": [
  {
   "cell_type": "markdown",
   "id": "089dec97",
   "metadata": {},
   "source": [
    "# Erdös Institute\n",
    "## Data Science Boot Camp Project: Police Interaction\n",
    "--- "
   ]
  },
  {
   "cell_type": "code",
   "execution_count": null,
   "id": "ad8c9ead",
   "metadata": {},
   "outputs": [],
   "source": [
    "import pandas as pd\n",
    "df = pd.read_csv('/Users/patrickma1994/Documents/data.tsv', sep='\\t',dtype='str')\n",
    "df.info()"
   ]
  },
  {
   "cell_type": "code",
   "execution_count": null,
   "id": "5ca86b5c",
   "metadata": {},
   "outputs": [],
   "source": [
    "# Checking if the value satisfy the codebook\n",
    "print(df['V347'].value_counts())\n",
    "list(df.columns)"
   ]
  },
  {
   "cell_type": "markdown",
   "id": "0c89b9da",
   "metadata": {},
   "source": [
    "By checking the codebook and "
   ]
  },
  {
   "cell_type": "code",
   "execution_count": null,
   "id": "830053b3",
   "metadata": {},
   "outputs": [],
   "source": [
    "df_m = df[['AGE', 'HISP', 'SEX', 'INCOME', 'V347']].rename(columns={'V347': 'proper_behave'})\n",
    "df_m.head()"
   ]
  },
  {
   "cell_type": "code",
   "execution_count": null,
   "id": "2cb1f22b",
   "metadata": {},
   "outputs": [],
   "source": [
    "# Convert columns to categorical\n",
    "df_m['AGE'] = pd.Categorical(df_m['AGE'])\n",
    "df_m['HISP'] = pd.Categorical(df_m['HISP'])\n",
    "df_m['SEX'] = pd.Categorical(df_m['SEX'])\n",
    "df_m['INCOME'] = pd.Categorical(df_m['INCOME'])\n",
    "\n",
    "# Filter rows where proper_behave is 1 or 2\n",
    "df_m = df_m[df_m['proper_behave'].isin(['1', '2'])]\n",
    "\n",
    "# Remap proper_behave values\n",
    "df_m['proper_behave'] = df_m['proper_behave'].map({'1': 1, '2': 0})\n",
    "\n",
    "# Convert proper_behave to numeric and checking the column number\n",
    "df_m['proper_behave'] = pd.to_numeric(df_m['proper_behave'])\n",
    "df_m.shape \n",
    "#df_m.head()\n",
    "# Check missing values in all columns\n",
    "print(\"Missing values in each column:\")\n",
    "print(df_m.isnull().sum())\n",
    "# Seems to be no missing values to the current dataset"
   ]
  },
  {
   "cell_type": "markdown",
   "id": "4164e2b7",
   "metadata": {},
   "source": [
    "The following codes drops missing values, but our data doesn't have missing values for the features selected. "
   ]
  },
  {
   "cell_type": "code",
   "execution_count": null,
   "id": "ed9c7c01",
   "metadata": {},
   "outputs": [],
   "source": [
    "# Drop rows with missing values in AGE, HISP, SEX, and INCOME\n",
    "df_m = df_m.dropna(subset=['AGE', 'HISP', 'SEX', 'INCOME'])\n",
    "\n",
    "# Verify the shape after dropping missing values\n",
    "print(\"\\nDataFrame shape after dropping missing values:\")\n",
    "print(df_m.shape)\n",
    "\n",
    "# Verify there are no more missing values in these columns\n",
    "print(\"\\nRemaining missing values:\")\n",
    "print(df_m[['AGE', 'HISP', 'SEX', 'INCOME']].isnull().sum())"
   ]
  },
  {
   "cell_type": "markdown",
   "id": "c9be72fa",
   "metadata": {},
   "source": [
    "### Logistic regression result\n",
    "---\n",
    "In the following model setup, the y(dependent variable is \"proper_behave\"), the dependent variable is the following:\n",
    "1. HISP: surveys if the the interviewee's ethnicity\n",
    "2. INCOME: surveys the interviewee's income level\n",
    "3. SEX: surveys the interviewee's gender\n",
    "4. AGE: surveys the interviewee's age\n",
    "\n",
    "The data set is splitted into 80% and 20%. A confusion matrix is provided below."
   ]
  },
  {
   "cell_type": "code",
   "execution_count": null,
   "id": "2217b70f",
   "metadata": {},
   "outputs": [],
   "source": [
    "# Import required libraries\n",
    "from sklearn.linear_model import LogisticRegression\n",
    "from sklearn.model_selection import train_test_split\n",
    "\n",
    "# Create dummy variables for categorical predictors\n",
    "X = pd.get_dummies(df_m[['AGE', 'HISP', 'SEX', 'INCOME']], drop_first=True)\n",
    "y = df_m['proper_behave']\n",
    "\n",
    "# Split the data into training and testing sets\n",
    "X_train, X_test, y_train, y_test = train_test_split(X, y, test_size=0.2, random_state=42)\n",
    "\n",
    "# Create and fit the logistic regression model\n",
    "model_lr = LogisticRegression(random_state=42)\n",
    "model_lr.fit(X_train, y_train)\n",
    "\n",
    "print(\"Model accuracy:\", model_lr.score(X_test, y_test))\n",
    "\n",
    "from sklearn.metrics import confusion_matrix, ConfusionMatrixDisplay\n",
    "import matplotlib.pyplot as plt\n",
    "# Get predictions on test set\n",
    "y_pred = model_lr.predict(X_test)\n",
    "\n",
    "# Create and plot confusion matrix\n",
    "cm = confusion_matrix(y_test, y_pred)\n",
    "disp = ConfusionMatrixDisplay(confusion_matrix=cm, display_labels=['No', 'Yes'])\n",
    "disp.plot(cmap='Reds')\n",
    "plt.title('Confusion Matrix')\n",
    "plt.show()\n",
    "\n",
    "# Print classification metrics\n",
    "from sklearn.metrics import classification_report\n",
    "print(\"\\nClassification Report:\")\n",
    "print(classification_report(y_test, y_pred))"
   ]
  },
  {
   "cell_type": "code",
   "execution_count": null,
   "id": "9b43b435",
   "metadata": {},
   "outputs": [],
   "source": [
    "# Get model coefficients\n",
    "coef_df = pd.DataFrame({\n",
    "    'Feature': X.columns,\n",
    "    'Coefficient': model.coef_[0]\n",
    "})\n",
    "print(\"\\nModel coefficients:\")\n",
    "print(coef_df)"
   ]
  },
  {
   "cell_type": "markdown",
   "id": "a1f9f679",
   "metadata": {},
   "source": [
    "Logistic Regression: adding cross-validation for better result."
   ]
  },
  {
   "cell_type": "code",
   "execution_count": null,
   "id": "7b1ceee2",
   "metadata": {},
   "outputs": [],
   "source": [
    "from sklearn.model_selection import cross_val_score\n",
    "from sklearn.metrics import make_scorer, accuracy_score, precision_score, recall_score, f1_score\n",
    "\n",
    "# Perform 5-fold cross-validation with multiple metrics\n",
    "cv_scores = {\n",
    "    'accuracy': cross_val_score(model_lr, X, y, cv=5, scoring='accuracy'),\n",
    "    'precision': cross_val_score(model_lr, X, y, cv=5, scoring='precision_macro'),\n",
    "    'recall': cross_val_score(model_lr, X, y, cv=5, scoring='recall_macro'),\n",
    "    'f1': cross_val_score(model_lr, X, y, cv=5, scoring='f1_macro')\n",
    "}\n",
    "\n",
    "# Print results\n",
    "for metric, scores in cv_scores.items():\n",
    "    print(f\"{metric.capitalize()} scores for each fold: {scores}\")\n",
    "    print(f\"Mean {metric}: {scores.mean():.3f} (+/- {scores.std() * 2:.3f})\")\n",
    "    print()\n"
   ]
  }
 ],
 "metadata": {
  "kernelspec": {
   "display_name": "erdos_summer_2025",
   "language": "python",
   "name": "python3"
  },
  "language_info": {
   "codemirror_mode": {
    "name": "ipython",
    "version": 3
   },
   "file_extension": ".py",
   "mimetype": "text/x-python",
   "name": "python",
   "nbconvert_exporter": "python",
   "pygments_lexer": "ipython3",
   "version": "3.12.10"
  }
 },
 "nbformat": 4,
 "nbformat_minor": 5
}
